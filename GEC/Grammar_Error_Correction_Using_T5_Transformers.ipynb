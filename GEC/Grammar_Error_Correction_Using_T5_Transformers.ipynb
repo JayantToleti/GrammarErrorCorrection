{
  "cells": [
    {
      "cell_type": "code",
      "execution_count": null,
      "id": "033f514c",
      "metadata": {
        "_cell_guid": "b1076dfc-b9ad-4769-8c92-a6c4dae69d19",
        "_uuid": "8f2839f25d086af736a60e9eeb907d3b93b6e0e5",
        "execution": {
          "iopub.execute_input": "2023-08-05T18:30:32.373207Z",
          "iopub.status.busy": "2023-08-05T18:30:32.372506Z",
          "iopub.status.idle": "2023-08-05T18:30:32.392841Z",
          "shell.execute_reply": "2023-08-05T18:30:32.391822Z"
        },
        "papermill": {
          "duration": 0.033523,
          "end_time": "2023-08-05T18:30:32.395256",
          "exception": false,
          "start_time": "2023-08-05T18:30:32.361733",
          "status": "completed"
        },
        "tags": [],
        "id": "033f514c"
      },
      "outputs": [],
      "source": [
        "# This Python 3 environment comes with many helpful analytics libraries installed\n",
        "# It is defined by the kaggle/python Docker image: https://github.com/kaggle/docker-python\n",
        "# For example, here's several helpful packages to load\n",
        "\n",
        "import numpy as np # linear algebra\n",
        "import pandas as pd # data processing, CSV file I/O (e.g. pd.read_csv)\n",
        "\n",
        "# Input data files are available in the read-only \"../input/\" directory\n",
        "# For example, running this (by clicking run or pressing Shift+Enter) will list all files under the input directory\n",
        "\n",
        "import os\n",
        "from tqdm import tqdm\n",
        "# You can write up to 20GB to the current directory (/kaggle/working/) that gets preserved as output when you create a version using \"Save & Run All\"\n",
        "# You can also write temporary files to /kaggle/temp/, but they won't be saved outside of the current session"
      ]
    },
    {
      "cell_type": "markdown",
      "source": [
        "Mount Drive to Access Dataset"
      ],
      "metadata": {
        "id": "OG0kwR9ZYuw_"
      },
      "id": "OG0kwR9ZYuw_"
    },
    {
      "cell_type": "code",
      "source": [
        "from google.colab import drive\n",
        "drive.mount('/content/drive')"
      ],
      "metadata": {
        "colab": {
          "base_uri": "https://localhost:8080/"
        },
        "id": "nXadHWNOax0a",
        "outputId": "0723c8d6-cc36-4747-dbb2-ebba5b988b5b"
      },
      "id": "nXadHWNOax0a",
      "execution_count": null,
      "outputs": [
        {
          "output_type": "stream",
          "name": "stdout",
          "text": [
            "Mounted at /content/drive\n"
          ]
        }
      ]
    },
    {
      "cell_type": "markdown",
      "id": "fad6de0e",
      "metadata": {
        "papermill": {
          "duration": 0.008814,
          "end_time": "2023-08-05T18:30:32.415274",
          "exception": false,
          "start_time": "2023-08-05T18:30:32.406460",
          "status": "completed"
        },
        "tags": [],
        "id": "fad6de0e"
      },
      "source": [
        "**IMPORTING NECESSARY LIBRARIES AND T5 MODEL**"
      ]
    },
    {
      "cell_type": "code",
      "execution_count": null,
      "id": "3870077c",
      "metadata": {
        "execution": {
          "iopub.execute_input": "2023-08-05T18:30:32.433507Z",
          "iopub.status.busy": "2023-08-05T18:30:32.433254Z",
          "iopub.status.idle": "2023-08-05T18:31:01.091888Z",
          "shell.execute_reply": "2023-08-05T18:31:01.090805Z"
        },
        "papermill": {
          "duration": 28.67127,
          "end_time": "2023-08-05T18:31:01.095169",
          "exception": false,
          "start_time": "2023-08-05T18:30:32.423899",
          "status": "completed"
        },
        "tags": [],
        "id": "3870077c",
        "colab": {
          "base_uri": "https://localhost:8080/"
        },
        "outputId": "96175dab-fa4b-4f66-c6d8-e3568a9f821f"
      },
      "outputs": [
        {
          "output_type": "stream",
          "name": "stdout",
          "text": [
            "Requirement already satisfied: happytransformer in /usr/local/lib/python3.10/dist-packages (3.0.0)\n",
            "Requirement already satisfied: torch>=1.0 in /usr/local/lib/python3.10/dist-packages (from happytransformer) (2.0.1+cu118)\n",
            "Requirement already satisfied: tqdm>=4.43 in /usr/local/lib/python3.10/dist-packages (from happytransformer) (4.66.1)\n",
            "Requirement already satisfied: transformers<5.0.0,>=4.30.1 in /usr/local/lib/python3.10/dist-packages (from happytransformer) (4.34.0)\n",
            "Requirement already satisfied: datasets<3.0.0,>=2.13.1 in /usr/local/lib/python3.10/dist-packages (from happytransformer) (2.14.5)\n",
            "Requirement already satisfied: sentencepiece in /usr/local/lib/python3.10/dist-packages (from happytransformer) (0.1.99)\n",
            "Requirement already satisfied: protobuf in /usr/local/lib/python3.10/dist-packages (from happytransformer) (3.20.3)\n",
            "Requirement already satisfied: accelerate<1.0.0,>=0.20.1 in /usr/local/lib/python3.10/dist-packages (from happytransformer) (0.23.0)\n",
            "Requirement already satisfied: tokenizers<1.0.0,>=0.13.3 in /usr/local/lib/python3.10/dist-packages (from happytransformer) (0.14.0)\n",
            "Requirement already satisfied: wandb in /usr/local/lib/python3.10/dist-packages (from happytransformer) (0.15.12)\n",
            "Requirement already satisfied: numpy>=1.17 in /usr/local/lib/python3.10/dist-packages (from accelerate<1.0.0,>=0.20.1->happytransformer) (1.23.5)\n",
            "Requirement already satisfied: packaging>=20.0 in /usr/local/lib/python3.10/dist-packages (from accelerate<1.0.0,>=0.20.1->happytransformer) (23.2)\n",
            "Requirement already satisfied: psutil in /usr/local/lib/python3.10/dist-packages (from accelerate<1.0.0,>=0.20.1->happytransformer) (5.9.5)\n",
            "Requirement already satisfied: pyyaml in /usr/local/lib/python3.10/dist-packages (from accelerate<1.0.0,>=0.20.1->happytransformer) (6.0.1)\n",
            "Requirement already satisfied: huggingface-hub in /usr/local/lib/python3.10/dist-packages (from accelerate<1.0.0,>=0.20.1->happytransformer) (0.16.4)\n",
            "Requirement already satisfied: pyarrow>=8.0.0 in /usr/local/lib/python3.10/dist-packages (from datasets<3.0.0,>=2.13.1->happytransformer) (9.0.0)\n",
            "Requirement already satisfied: dill<0.3.8,>=0.3.0 in /usr/local/lib/python3.10/dist-packages (from datasets<3.0.0,>=2.13.1->happytransformer) (0.3.7)\n",
            "Requirement already satisfied: pandas in /usr/local/lib/python3.10/dist-packages (from datasets<3.0.0,>=2.13.1->happytransformer) (1.5.3)\n",
            "Requirement already satisfied: requests>=2.19.0 in /usr/local/lib/python3.10/dist-packages (from datasets<3.0.0,>=2.13.1->happytransformer) (2.31.0)\n",
            "Requirement already satisfied: xxhash in /usr/local/lib/python3.10/dist-packages (from datasets<3.0.0,>=2.13.1->happytransformer) (3.4.1)\n",
            "Requirement already satisfied: multiprocess in /usr/local/lib/python3.10/dist-packages (from datasets<3.0.0,>=2.13.1->happytransformer) (0.70.15)\n",
            "Requirement already satisfied: fsspec[http]<2023.9.0,>=2023.1.0 in /usr/local/lib/python3.10/dist-packages (from datasets<3.0.0,>=2.13.1->happytransformer) (2023.6.0)\n",
            "Requirement already satisfied: aiohttp in /usr/local/lib/python3.10/dist-packages (from datasets<3.0.0,>=2.13.1->happytransformer) (3.8.5)\n",
            "Requirement already satisfied: filelock in /usr/local/lib/python3.10/dist-packages (from torch>=1.0->happytransformer) (3.12.4)\n",
            "Requirement already satisfied: typing-extensions in /usr/local/lib/python3.10/dist-packages (from torch>=1.0->happytransformer) (4.5.0)\n",
            "Requirement already satisfied: sympy in /usr/local/lib/python3.10/dist-packages (from torch>=1.0->happytransformer) (1.12)\n",
            "Requirement already satisfied: networkx in /usr/local/lib/python3.10/dist-packages (from torch>=1.0->happytransformer) (3.1)\n",
            "Requirement already satisfied: jinja2 in /usr/local/lib/python3.10/dist-packages (from torch>=1.0->happytransformer) (3.1.2)\n",
            "Requirement already satisfied: triton==2.0.0 in /usr/local/lib/python3.10/dist-packages (from torch>=1.0->happytransformer) (2.0.0)\n",
            "Requirement already satisfied: cmake in /usr/local/lib/python3.10/dist-packages (from triton==2.0.0->torch>=1.0->happytransformer) (3.27.6)\n",
            "Requirement already satisfied: lit in /usr/local/lib/python3.10/dist-packages (from triton==2.0.0->torch>=1.0->happytransformer) (17.0.2)\n",
            "Requirement already satisfied: regex!=2019.12.17 in /usr/local/lib/python3.10/dist-packages (from transformers<5.0.0,>=4.30.1->happytransformer) (2023.6.3)\n",
            "Requirement already satisfied: safetensors>=0.3.1 in /usr/local/lib/python3.10/dist-packages (from transformers<5.0.0,>=4.30.1->happytransformer) (0.3.3)\n",
            "Requirement already satisfied: Click!=8.0.0,>=7.1 in /usr/local/lib/python3.10/dist-packages (from wandb->happytransformer) (8.1.7)\n",
            "Requirement already satisfied: GitPython!=3.1.29,>=1.0.0 in /usr/local/lib/python3.10/dist-packages (from wandb->happytransformer) (3.1.37)\n",
            "Requirement already satisfied: sentry-sdk>=1.0.0 in /usr/local/lib/python3.10/dist-packages (from wandb->happytransformer) (1.31.0)\n",
            "Requirement already satisfied: docker-pycreds>=0.4.0 in /usr/local/lib/python3.10/dist-packages (from wandb->happytransformer) (0.4.0)\n",
            "Requirement already satisfied: pathtools in /usr/local/lib/python3.10/dist-packages (from wandb->happytransformer) (0.1.2)\n",
            "Requirement already satisfied: setproctitle in /usr/local/lib/python3.10/dist-packages (from wandb->happytransformer) (1.3.3)\n",
            "Requirement already satisfied: setuptools in /usr/local/lib/python3.10/dist-packages (from wandb->happytransformer) (67.7.2)\n",
            "Requirement already satisfied: appdirs>=1.4.3 in /usr/local/lib/python3.10/dist-packages (from wandb->happytransformer) (1.4.4)\n",
            "Requirement already satisfied: six>=1.4.0 in /usr/local/lib/python3.10/dist-packages (from docker-pycreds>=0.4.0->wandb->happytransformer) (1.16.0)\n",
            "Requirement already satisfied: attrs>=17.3.0 in /usr/local/lib/python3.10/dist-packages (from aiohttp->datasets<3.0.0,>=2.13.1->happytransformer) (23.1.0)\n",
            "Requirement already satisfied: charset-normalizer<4.0,>=2.0 in /usr/local/lib/python3.10/dist-packages (from aiohttp->datasets<3.0.0,>=2.13.1->happytransformer) (3.3.0)\n",
            "Requirement already satisfied: multidict<7.0,>=4.5 in /usr/local/lib/python3.10/dist-packages (from aiohttp->datasets<3.0.0,>=2.13.1->happytransformer) (6.0.4)\n",
            "Requirement already satisfied: async-timeout<5.0,>=4.0.0a3 in /usr/local/lib/python3.10/dist-packages (from aiohttp->datasets<3.0.0,>=2.13.1->happytransformer) (4.0.3)\n",
            "Requirement already satisfied: yarl<2.0,>=1.0 in /usr/local/lib/python3.10/dist-packages (from aiohttp->datasets<3.0.0,>=2.13.1->happytransformer) (1.9.2)\n",
            "Requirement already satisfied: frozenlist>=1.1.1 in /usr/local/lib/python3.10/dist-packages (from aiohttp->datasets<3.0.0,>=2.13.1->happytransformer) (1.4.0)\n",
            "Requirement already satisfied: aiosignal>=1.1.2 in /usr/local/lib/python3.10/dist-packages (from aiohttp->datasets<3.0.0,>=2.13.1->happytransformer) (1.3.1)\n",
            "Requirement already satisfied: gitdb<5,>=4.0.1 in /usr/local/lib/python3.10/dist-packages (from GitPython!=3.1.29,>=1.0.0->wandb->happytransformer) (4.0.10)\n",
            "Requirement already satisfied: idna<4,>=2.5 in /usr/local/lib/python3.10/dist-packages (from requests>=2.19.0->datasets<3.0.0,>=2.13.1->happytransformer) (3.4)\n",
            "Requirement already satisfied: urllib3<3,>=1.21.1 in /usr/local/lib/python3.10/dist-packages (from requests>=2.19.0->datasets<3.0.0,>=2.13.1->happytransformer) (2.0.6)\n",
            "Requirement already satisfied: certifi>=2017.4.17 in /usr/local/lib/python3.10/dist-packages (from requests>=2.19.0->datasets<3.0.0,>=2.13.1->happytransformer) (2023.7.22)\n",
            "Requirement already satisfied: MarkupSafe>=2.0 in /usr/local/lib/python3.10/dist-packages (from jinja2->torch>=1.0->happytransformer) (2.1.3)\n",
            "Requirement already satisfied: python-dateutil>=2.8.1 in /usr/local/lib/python3.10/dist-packages (from pandas->datasets<3.0.0,>=2.13.1->happytransformer) (2.8.2)\n",
            "Requirement already satisfied: pytz>=2020.1 in /usr/local/lib/python3.10/dist-packages (from pandas->datasets<3.0.0,>=2.13.1->happytransformer) (2023.3.post1)\n",
            "Requirement already satisfied: mpmath>=0.19 in /usr/local/lib/python3.10/dist-packages (from sympy->torch>=1.0->happytransformer) (1.3.0)\n",
            "Requirement already satisfied: smmap<6,>=3.0.1 in /usr/local/lib/python3.10/dist-packages (from gitdb<5,>=4.0.1->GitPython!=3.1.29,>=1.0.0->wandb->happytransformer) (5.0.1)\n"
          ]
        }
      ],
      "source": [
        "!pip install happytransformer\n",
        "import re\n",
        "import pandas as pd\n",
        "import matplotlib.pyplot as plt\n",
        "from wordcloud import STOPWORDS, WordCloud\n",
        "from happytransformer import HappyTextToText, TTSettings, TTTrainArgs\n",
        "from transformers import T5Tokenizer"
      ]
    },
    {
      "cell_type": "markdown",
      "id": "4c4309a3",
      "metadata": {
        "papermill": {
          "duration": 0.021821,
          "end_time": "2023-08-05T18:31:01.138085",
          "exception": false,
          "start_time": "2023-08-05T18:31:01.116264",
          "status": "completed"
        },
        "tags": [],
        "id": "4c4309a3"
      },
      "source": [
        "**CONVERSION OF M2 FORMAT TO TXT**"
      ]
    },
    {
      "cell_type": "code",
      "source": [
        "!tar xvzf '/content/drive/MyDrive/lang8.bea19.tar.gz'"
      ],
      "metadata": {
        "colab": {
          "base_uri": "https://localhost:8080/"
        },
        "id": "8HjqOpi_bJ25",
        "outputId": "95f2387e-fa31-402d-b18f-3dbb939338e5"
      },
      "id": "8HjqOpi_bJ25",
      "execution_count": null,
      "outputs": [
        {
          "output_type": "stream",
          "name": "stdout",
          "text": [
            "lang8.train.auto.bea19.m2\n",
            "lang8_to_m2.py\n",
            "readme.txt\n"
          ]
        }
      ]
    },
    {
      "cell_type": "code",
      "source": [
        "m2 = open(\"/content/lang8.train.auto.bea19.m2\").read().strip().split(\"\\n\\n\")\n",
        "out = open(\"fce.train.gold.bea19.txt\", \"w\")\n",
        "\n",
        "# Do not apply edits with these error types\n",
        "skip = {\"noop\", \"UNK\", \"Um\"}\n",
        "\n",
        "for sent in m2:\n",
        "    sent = sent.split(\"\\n\")\n",
        "    cor_sent = sent[0].split()[1:]  # Ignore \"S \"\n",
        "    edits = sent[1:]\n",
        "    offset = 0\n",
        "    for edit in edits:\n",
        "        edit = edit.split(\"|||\")\n",
        "        if len(edit) < 2:\n",
        "            continue  # Skip edits without at least 2 elements\n",
        "        if edit[1] in skip:\n",
        "            continue\n",
        "        coder = int(edit[-1])\n",
        "        if coder != 0:\n",
        "            continue  # Ignore other coders\n",
        "        span = edit[0].split()[1:]  # Ignore \"A \"\n",
        "        start = int(span[0])\n",
        "        end = int(span[1])\n",
        "        cor = edit[2].split()\n",
        "        cor_sent[start + offset:end + offset] = cor\n",
        "        offset = offset - (end - start) + len(cor)\n",
        "    out.write(\" \".join(cor_sent) + \"\\n\")\n"
      ],
      "metadata": {
        "id": "tdrALGKcvvQ3"
      },
      "id": "tdrALGKcvvQ3",
      "execution_count": null,
      "outputs": []
    },
    {
      "cell_type": "markdown",
      "id": "e84bb481",
      "metadata": {
        "papermill": {
          "duration": 0.010116,
          "end_time": "2023-08-05T18:31:08.901180",
          "exception": false,
          "start_time": "2023-08-05T18:31:08.891064",
          "status": "completed"
        },
        "tags": [],
        "id": "e84bb481"
      },
      "source": [
        "**PREPROCESSING INCORRECT SENTENCE**"
      ]
    },
    {
      "cell_type": "code",
      "execution_count": null,
      "id": "67d3ccaa",
      "metadata": {
        "execution": {
          "iopub.execute_input": "2023-08-05T18:31:08.923001Z",
          "iopub.status.busy": "2023-08-05T18:31:08.922681Z",
          "iopub.status.idle": "2023-08-05T18:31:11.971860Z",
          "shell.execute_reply": "2023-08-05T18:31:11.970830Z"
        },
        "papermill": {
          "duration": 3.063253,
          "end_time": "2023-08-05T18:31:11.974504",
          "exception": false,
          "start_time": "2023-08-05T18:31:08.911251",
          "status": "completed"
        },
        "tags": [],
        "id": "67d3ccaa"
      },
      "outputs": [],
      "source": [
        "file1 = open(\"/content/lang8.train.auto.bea19.m2\",\"r\")\n",
        "s1 = file1.read()\n",
        "\n",
        "each_sent = s1.split(\"\\n\\n\")\n",
        "\n",
        "incorrect = []\n",
        "for i in range(len(each_sent)):\n",
        "    temp = each_sent[i].split(\"\\n\")\n",
        "    temp = temp[0]\n",
        "    temp = temp.split(\" \")\n",
        "    temp = temp[1:]# ignore S\n",
        "    temp = ' '.join(temp)\n",
        "    incorrect.append(temp)"
      ]
    },
    {
      "cell_type": "markdown",
      "id": "c5362cb0",
      "metadata": {
        "papermill": {
          "duration": 0.009738,
          "end_time": "2023-08-05T18:31:11.994585",
          "exception": false,
          "start_time": "2023-08-05T18:31:11.984847",
          "status": "completed"
        },
        "tags": [],
        "id": "c5362cb0"
      },
      "source": [
        "**PREOROCESSING CORRECT SENTENCE**"
      ]
    },
    {
      "cell_type": "code",
      "execution_count": null,
      "id": "5f602f61",
      "metadata": {
        "execution": {
          "iopub.execute_input": "2023-08-05T18:31:12.017023Z",
          "iopub.status.busy": "2023-08-05T18:31:12.016006Z",
          "iopub.status.idle": "2023-08-05T18:31:12.237589Z",
          "shell.execute_reply": "2023-08-05T18:31:12.236558Z"
        },
        "papermill": {
          "duration": 0.235201,
          "end_time": "2023-08-05T18:31:12.240009",
          "exception": false,
          "start_time": "2023-08-05T18:31:12.004808",
          "status": "completed"
        },
        "tags": [],
        "id": "5f602f61"
      },
      "outputs": [],
      "source": [
        "file2 = open(\"fce.train.gold.bea19.txt\",\"r\")\n",
        "s2 = file2.read()\n",
        "\n",
        "correct = s2.split(\"\\n\")\n"
      ]
    },
    {
      "cell_type": "markdown",
      "id": "3544d1ee",
      "metadata": {
        "papermill": {
          "duration": 0.010018,
          "end_time": "2023-08-05T18:31:12.260386",
          "exception": false,
          "start_time": "2023-08-05T18:31:12.250368",
          "status": "completed"
        },
        "tags": [],
        "id": "3544d1ee"
      },
      "source": [
        "**STORING CORRECT AND INCORRECT SENTENCE IN DATAFRAME**"
      ]
    },
    {
      "cell_type": "code",
      "execution_count": null,
      "id": "6f261604",
      "metadata": {
        "execution": {
          "iopub.execute_input": "2023-08-05T18:31:12.284938Z",
          "iopub.status.busy": "2023-08-05T18:31:12.284640Z",
          "iopub.status.idle": "2023-08-05T18:31:12.623822Z",
          "shell.execute_reply": "2023-08-05T18:31:12.622783Z"
        },
        "papermill": {
          "duration": 0.352571,
          "end_time": "2023-08-05T18:31:12.626418",
          "exception": false,
          "start_time": "2023-08-05T18:31:12.273847",
          "status": "completed"
        },
        "tags": [],
        "id": "6f261604"
      },
      "outputs": [],
      "source": [
        "df = pd.DataFrame()\n",
        "df[\"target\"] = correct\n",
        "df[\"input\"] = incorrect"
      ]
    },
    {
      "cell_type": "markdown",
      "id": "f4f73bd5",
      "metadata": {
        "papermill": {
          "duration": 0.009805,
          "end_time": "2023-08-05T18:31:12.646625",
          "exception": false,
          "start_time": "2023-08-05T18:31:12.636820",
          "status": "completed"
        },
        "tags": [],
        "id": "f4f73bd5"
      },
      "source": [
        "**STORE IN CSV FORMAT**"
      ]
    },
    {
      "cell_type": "code",
      "execution_count": null,
      "id": "4e73cf14",
      "metadata": {
        "execution": {
          "iopub.execute_input": "2023-08-05T18:31:12.668555Z",
          "iopub.status.busy": "2023-08-05T18:31:12.667758Z",
          "iopub.status.idle": "2023-08-05T18:31:32.680582Z",
          "shell.execute_reply": "2023-08-05T18:31:32.679616Z"
        },
        "papermill": {
          "duration": 20.026751,
          "end_time": "2023-08-05T18:31:32.683333",
          "exception": false,
          "start_time": "2023-08-05T18:31:12.656582",
          "status": "completed"
        },
        "tags": [],
        "colab": {
          "base_uri": "https://localhost:8080/"
        },
        "id": "4e73cf14",
        "outputId": "e7d49651-3d55-4a3b-9919-926517afa273"
      },
      "outputs": [
        {
          "output_type": "execute_result",
          "data": {
            "text/plain": [
              "(498360, 2)"
            ]
          },
          "metadata": {},
          "execution_count": 13
        }
      ],
      "source": [
        "df.to_csv(\"data.csv\",index=False)\n",
        "\n",
        "index = []\n",
        "for i in range(len(df.values)):\n",
        "    if df.values[i][0] == df.values[i][1]:\n",
        "        index.append(i)\n",
        "\n",
        "df = df.drop(index)\n",
        "df.shape\n",
        "\n"
      ]
    },
    {
      "cell_type": "markdown",
      "id": "09f091dd",
      "metadata": {
        "papermill": {
          "duration": 0.015705,
          "end_time": "2023-08-05T18:31:32.714899",
          "exception": false,
          "start_time": "2023-08-05T18:31:32.699194",
          "status": "completed"
        },
        "tags": [],
        "id": "09f091dd"
      },
      "source": [
        "**CHECK NULL VALUES**"
      ]
    },
    {
      "cell_type": "code",
      "execution_count": null,
      "id": "798b5bf4",
      "metadata": {
        "execution": {
          "iopub.execute_input": "2023-08-05T18:31:32.748974Z",
          "iopub.status.busy": "2023-08-05T18:31:32.748579Z",
          "iopub.status.idle": "2023-08-05T18:31:33.554313Z",
          "shell.execute_reply": "2023-08-05T18:31:33.553215Z"
        },
        "papermill": {
          "duration": 0.825506,
          "end_time": "2023-08-05T18:31:33.556798",
          "exception": false,
          "start_time": "2023-08-05T18:31:32.731292",
          "status": "completed"
        },
        "tags": [],
        "id": "798b5bf4"
      },
      "outputs": [],
      "source": [
        "df.isnull().values.any()\n",
        "\n",
        "df.dropna(inplace=True)"
      ]
    },
    {
      "cell_type": "markdown",
      "id": "bcf9ce7e",
      "metadata": {
        "papermill": {
          "duration": 0.010369,
          "end_time": "2023-08-05T18:31:33.577698",
          "exception": false,
          "start_time": "2023-08-05T18:31:33.567329",
          "status": "completed"
        },
        "tags": [],
        "id": "bcf9ce7e"
      },
      "source": [
        "**CHECK DUPLICATE VALUE**"
      ]
    },
    {
      "cell_type": "code",
      "execution_count": null,
      "id": "a105aa6c",
      "metadata": {
        "execution": {
          "iopub.execute_input": "2023-08-05T18:31:33.600533Z",
          "iopub.status.busy": "2023-08-05T18:31:33.599020Z",
          "iopub.status.idle": "2023-08-05T18:31:34.434224Z",
          "shell.execute_reply": "2023-08-05T18:31:34.433222Z"
        },
        "papermill": {
          "duration": 0.848474,
          "end_time": "2023-08-05T18:31:34.436554",
          "exception": false,
          "start_time": "2023-08-05T18:31:33.588080",
          "status": "completed"
        },
        "tags": [],
        "id": "a105aa6c"
      },
      "outputs": [],
      "source": [
        "df.duplicated().values.any()\n",
        "\n",
        "df.drop_duplicates(inplace=True)\n",
        "df.reset_index(inplace=True,drop=True)"
      ]
    },
    {
      "cell_type": "markdown",
      "id": "8fd70461",
      "metadata": {
        "papermill": {
          "duration": 0.009858,
          "end_time": "2023-08-05T18:31:34.456758",
          "exception": false,
          "start_time": "2023-08-05T18:31:34.446900",
          "status": "completed"
        },
        "tags": [],
        "id": "8fd70461"
      },
      "source": [
        "**TEXT CLEANING**"
      ]
    },
    {
      "cell_type": "code",
      "execution_count": null,
      "id": "3640010f",
      "metadata": {
        "execution": {
          "iopub.execute_input": "2023-08-05T18:31:34.477968Z",
          "iopub.status.busy": "2023-08-05T18:31:34.477665Z",
          "iopub.status.idle": "2023-08-05T18:31:34.484236Z",
          "shell.execute_reply": "2023-08-05T18:31:34.483210Z"
        },
        "papermill": {
          "duration": 0.019948,
          "end_time": "2023-08-05T18:31:34.486648",
          "exception": false,
          "start_time": "2023-08-05T18:31:34.466700",
          "status": "completed"
        },
        "tags": [],
        "id": "3640010f"
      },
      "outputs": [],
      "source": [
        "def clean(text):\n",
        "   # removes characters inside (),{},[] and <>\n",
        "   # removes characters like -+@#^/|*(){}$~`\n",
        "   # we not not removing ,.!-:;\"'\n",
        "\n",
        "    text = re.sub('<.*>', '', text)\n",
        "    text = re.sub('\\(.*\\)', '', text)\n",
        "    text = re.sub('\\[.*\\]', '', text)\n",
        "    text = re.sub('{.*}', '', text)\n",
        "    text = re.sub(\"[-+@#^/|*(){}$~`<>=_]\",\"\",text)\n",
        "    text = text.replace(\"\\\\\",\"\")\n",
        "    text = re.sub(\"\\[\",\"\",text)\n",
        "    text = re.sub(\"\\]\",\"\",text)\n",
        "    text = re.sub(\"[0-9]\",\"\",text)\n",
        "    return text\n",
        "\n"
      ]
    },
    {
      "cell_type": "markdown",
      "id": "1cd7ef19",
      "metadata": {
        "papermill": {
          "duration": 0.009722,
          "end_time": "2023-08-05T18:31:34.506325",
          "exception": false,
          "start_time": "2023-08-05T18:31:34.496603",
          "status": "completed"
        },
        "tags": [],
        "id": "1cd7ef19"
      },
      "source": [
        "**LOWERCASE CONVERSION**"
      ]
    },
    {
      "cell_type": "code",
      "execution_count": null,
      "id": "ed186679",
      "metadata": {
        "execution": {
          "iopub.execute_input": "2023-08-05T18:31:34.527621Z",
          "iopub.status.busy": "2023-08-05T18:31:34.527367Z",
          "iopub.status.idle": "2023-08-05T18:31:34.532630Z",
          "shell.execute_reply": "2023-08-05T18:31:34.531761Z"
        },
        "papermill": {
          "duration": 0.018167,
          "end_time": "2023-08-05T18:31:34.534624",
          "exception": false,
          "start_time": "2023-08-05T18:31:34.516457",
          "status": "completed"
        },
        "tags": [],
        "id": "ed186679"
      },
      "outputs": [],
      "source": [
        "def word_cloud(df,col):\n",
        "\n",
        "    comment_words = ''\n",
        "    stopwords = set(STOPWORDS)\n",
        "\n",
        "# iterate through the csv file\n",
        "    for val in df[col]:\n",
        "        val = str(val)\n",
        "    # split the value\n",
        "        tokens = val.split()\n",
        "    # Converts each token into lowercase\n",
        "        for i in range(len(tokens)):\n",
        "            tokens[i] = tokens[i].lower()\n",
        "\n",
        "        comment_words += \" \".join(tokens)+\" \"\n"
      ]
    },
    {
      "cell_type": "markdown",
      "id": "be2a8f0d",
      "metadata": {
        "papermill": {
          "duration": 0.009746,
          "end_time": "2023-08-05T18:31:34.554242",
          "exception": false,
          "start_time": "2023-08-05T18:31:34.544496",
          "status": "completed"
        },
        "tags": [],
        "id": "be2a8f0d"
      },
      "source": [
        "**SPLIT DATA INTO TRAIN AND EVALUATION**"
      ]
    },
    {
      "cell_type": "code",
      "execution_count": null,
      "id": "93240903",
      "metadata": {
        "execution": {
          "iopub.execute_input": "2023-08-05T18:31:34.575440Z",
          "iopub.status.busy": "2023-08-05T18:31:34.575187Z",
          "iopub.status.idle": "2023-08-05T18:31:38.193952Z",
          "shell.execute_reply": "2023-08-05T18:31:38.192963Z"
        },
        "papermill": {
          "duration": 3.631992,
          "end_time": "2023-08-05T18:31:38.196478",
          "exception": false,
          "start_time": "2023-08-05T18:31:34.564486",
          "status": "completed"
        },
        "tags": [],
        "id": "93240903"
      },
      "outputs": [],
      "source": [
        "train_ratio = 0.7\n",
        "train_size = int(train_ratio * len(df))\n",
        "train_data = df[:train_size]\n",
        "eval_data = df[train_size:]\n",
        "\n",
        "train_data.to_csv(\"train.csv\", index=False)\n",
        "eval_data.to_csv(\"eval.csv\", index=False)"
      ]
    },
    {
      "cell_type": "markdown",
      "id": "0ee85de8",
      "metadata": {
        "papermill": {
          "duration": 0.010756,
          "end_time": "2023-08-05T18:31:38.219042",
          "exception": false,
          "start_time": "2023-08-05T18:31:38.208286",
          "status": "completed"
        },
        "tags": [],
        "id": "0ee85de8"
      },
      "source": [
        "**TRUNCATE AND LOAD TRAIN DATASET**"
      ]
    },
    {
      "cell_type": "code",
      "execution_count": null,
      "id": "55d11d87",
      "metadata": {
        "execution": {
          "iopub.execute_input": "2023-08-05T18:31:38.241297Z",
          "iopub.status.busy": "2023-08-05T18:31:38.240970Z",
          "iopub.status.idle": "2023-08-05T18:31:40.899206Z",
          "shell.execute_reply": "2023-08-05T18:31:40.898161Z"
        },
        "papermill": {
          "duration": 2.672238,
          "end_time": "2023-08-05T18:31:40.901654",
          "exception": false,
          "start_time": "2023-08-05T18:31:38.229416",
          "status": "completed"
        },
        "tags": [],
        "id": "55d11d87"
      },
      "outputs": [],
      "source": [
        "df = pd.read_csv(\"train.csv\")\n",
        "\n",
        "desired_length = 250000\n",
        "truncated_df = df[:desired_length]\n",
        "\n",
        "truncated_df.to_csv(\"t_train.csv\", index=False)"
      ]
    },
    {
      "cell_type": "markdown",
      "id": "04d5fe9e",
      "metadata": {
        "papermill": {
          "duration": 0.010324,
          "end_time": "2023-08-05T18:31:40.922752",
          "exception": false,
          "start_time": "2023-08-05T18:31:40.912428",
          "status": "completed"
        },
        "tags": [],
        "id": "04d5fe9e"
      },
      "source": [
        "**TOKENIZATION**"
      ]
    },
    {
      "cell_type": "code",
      "execution_count": null,
      "id": "912eb036",
      "metadata": {
        "execution": {
          "iopub.execute_input": "2023-08-05T18:31:40.944265Z",
          "iopub.status.busy": "2023-08-05T18:31:40.943929Z",
          "iopub.status.idle": "2023-08-05T18:36:18.660342Z",
          "shell.execute_reply": "2023-08-05T18:36:18.659133Z"
        },
        "papermill": {
          "duration": 277.730274,
          "end_time": "2023-08-05T18:36:18.663243",
          "exception": false,
          "start_time": "2023-08-05T18:31:40.932969",
          "status": "completed"
        },
        "tags": [],
        "colab": {
          "base_uri": "https://localhost:8080/",
          "height": 254,
          "referenced_widgets": [
            "20380b23539c4fc6b9c68316604324a1",
            "c86249f51b8b4f778aa485b019b593ee",
            "6ab29c93e1ee4b5bb370b73caa509c6f",
            "d358bff6793a45cbbc861a565140ded4",
            "77c79799f9304913af5c43abcd050ce6",
            "9625bcc5dee5409fabfe482ab3909cc4",
            "c983944ccfff464e90dab8a397c5e524",
            "273bb720dd0a43aa9e62b21188ee58ea",
            "4927199a66be4a2c8fe2f99ece41e2c6",
            "d3614740cbdf43389dfab37f7f029474",
            "b6fda70fbed14901b5fa106c686dcfa3",
            "54c86b1c8a0941508c7d5829c03aa9f6",
            "fe6fcb3d0eb74782ad428ee540a01dbc",
            "0fd349f9d65d44bc8adb307413994e4e",
            "ed8247973bcf448aa922674c6413ccb8",
            "a4ac0c3e53e845bbb7c5116f4df36e5d",
            "f5ccb9fd007647bdacc7503a327f018d",
            "34b20a21181b49bda923912369f1ae82",
            "d82eb7e3adf44062a963723ce9d2bea0",
            "40fda5181b6b468295d484d35e13cc09",
            "f2a1ccfb78f44f679da17d09317d1d40",
            "d4aeafd2d282494d9c4c675f7d57bcac",
            "66cc94babecf46eb88bf46fd7506a2a2",
            "5f8571215af04342a8971734bff7a4ff",
            "915aed8319f74539aaa3a69f3e6b7e2a",
            "d3d065d63860473697763628fe80b8dd",
            "c7e560cfe81343a09c6cbeca1f203d60",
            "e584991853fe45a29e5266ae9d69d29a",
            "3f81aa9b6671469e8b49b7d7e8eb0f98",
            "1a95aead381b47c9a76e2c1cc16dcaff",
            "a4f6a2e1ae204b58a065a5b78a32b05c",
            "2fb36568a4dc4fe4bcad9ed6e30540f7",
            "7e677b809dec4c5db15108da9669b170"
          ]
        },
        "id": "912eb036",
        "outputId": "a07a8f2e-56ac-460b-e7c9-fc54da37b85e"
      },
      "outputs": [
        {
          "output_type": "display_data",
          "data": {
            "text/plain": [
              "Downloading (…)ve/main/spiece.model:   0%|          | 0.00/792k [00:00<?, ?B/s]"
            ],
            "application/vnd.jupyter.widget-view+json": {
              "version_major": 2,
              "version_minor": 0,
              "model_id": "20380b23539c4fc6b9c68316604324a1"
            }
          },
          "metadata": {}
        },
        {
          "output_type": "display_data",
          "data": {
            "text/plain": [
              "Downloading (…)/main/tokenizer.json:   0%|          | 0.00/1.39M [00:00<?, ?B/s]"
            ],
            "application/vnd.jupyter.widget-view+json": {
              "version_major": 2,
              "version_minor": 0,
              "model_id": "54c86b1c8a0941508c7d5829c03aa9f6"
            }
          },
          "metadata": {}
        },
        {
          "output_type": "display_data",
          "data": {
            "text/plain": [
              "Downloading (…)lve/main/config.json:   0%|          | 0.00/1.21k [00:00<?, ?B/s]"
            ],
            "application/vnd.jupyter.widget-view+json": {
              "version_major": 2,
              "version_minor": 0,
              "model_id": "66cc94babecf46eb88bf46fd7506a2a2"
            }
          },
          "metadata": {}
        },
        {
          "output_type": "stream",
          "name": "stderr",
          "text": [
            "/usr/local/lib/python3.10/dist-packages/transformers/models/t5/tokenization_t5.py:238: FutureWarning: This tokenizer was incorrectly instantiated with a model max length of 512 which will be corrected in Transformers v5.\n",
            "For now, this behavior is kept to avoid breaking backwards compatibility when padding/encoding with `truncation is True`.\n",
            "- Be aware that you SHOULD NOT rely on t5-base automatically truncating your input to 512 when padding/encoding.\n",
            "- If you want to encode/pad to sequences longer than 512 you can either instantiate this tokenizer with `model_max_length` or pass `max_length` when encoding/padding.\n",
            "- To avoid this warning, please instantiate this tokenizer with `model_max_length` set to your preferred value.\n",
            "  warnings.warn(\n",
            "You are using the default legacy behaviour of the <class 'transformers.models.t5.tokenization_t5.T5Tokenizer'>. This is expected, and simply means that the `legacy` (previous) behavior will be used so nothing changes for you. If you want to use the new behaviour, set `legacy=False`. This should only be set if you understand what it means, and thouroughly read the reason why this was added as explained in https://github.com/huggingface/transformers/pull/24565\n"
          ]
        }
      ],
      "source": [
        "tokenizer = T5Tokenizer.from_pretrained('t5-base')\n",
        "\n",
        "input_sentences = train_data[\"input\"].tolist()\n",
        "input_encodings = tokenizer(input_sentences, padding=True, truncation=True, return_tensors=\"pt\")\n",
        "\n",
        "target_sentences = train_data[\"target\"].tolist()\n",
        "target_encodings = tokenizer(target_sentences, padding=True, truncation=True, return_tensors=\"pt\")\n",
        "\n",
        "train_data[\"input_ids\"] = input_encodings.input_ids.tolist()\n",
        "train_data[\"attention_mask\"] = input_encodings.attention_mask.tolist()\n",
        "train_data[\"target_ids\"] = target_encodings.input_ids.tolist()\n",
        "train_data[\"target_attention_mask\"] = target_encodings.attention_mask.tolist()\n"
      ]
    },
    {
      "cell_type": "markdown",
      "id": "120b4fda",
      "metadata": {
        "papermill": {
          "duration": 0.01245,
          "end_time": "2023-08-05T18:36:18.687201",
          "exception": false,
          "start_time": "2023-08-05T18:36:18.674751",
          "status": "completed"
        },
        "tags": [],
        "id": "120b4fda"
      },
      "source": [
        "**MODEL TRAINING**"
      ]
    },
    {
      "cell_type": "code",
      "execution_count": null,
      "id": "e60f487d",
      "metadata": {
        "execution": {
          "iopub.execute_input": "2023-08-05T18:36:18.711271Z",
          "iopub.status.busy": "2023-08-05T18:36:18.710915Z",
          "iopub.status.idle": "2023-08-06T00:12:49.922532Z",
          "shell.execute_reply": "2023-08-06T00:12:49.921558Z"
        },
        "papermill": {
          "duration": 20191.22579,
          "end_time": "2023-08-06T00:12:49.924923",
          "exception": false,
          "start_time": "2023-08-05T18:36:18.699133",
          "status": "completed"
        },
        "tags": [],
        "colab": {
          "base_uri": "https://localhost:8080/",
          "height": 1032,
          "referenced_widgets": [
            "e113449bbbf64cbc98a7d2c91aa250ce",
            "948be247f3ab464c9017b133e10ae48f",
            "0e5a94372ee74914a14a13e4d1380b30",
            "137c94ef686a4f39a5e4b92afc121d3c",
            "d868563271e24e75b11d45820a777a8f",
            "770ef34a60b84438a3b1a97016912351",
            "dc4adcf080644b69a7391f529f787e47",
            "b53c31d21f6940a18a1d994b10af1831",
            "62d90cfaa89f43e8a327461c6db6d0ca",
            "5cb30c798f99460b9cb463d1ff524dc7",
            "d9d49119e6984a5281ca1416bc0f8dbf",
            "21ad8033f16840d49a1d50b75d4bdf44",
            "372ec7fdf19e49abb67d9c83484f4aed",
            "8ac66b043de841a68c64ec25ae8d909f",
            "45b0b12f8f0c4a68a76abff9fa184894",
            "b28f41a7c915430da25954c71cc7641c",
            "e6a5a28b81b3474a9b3348f0348e3bca",
            "20f99beef7c44fb8b8a46541e62f8532",
            "c8d75fa0caa84fe5b873d867c4e601d1",
            "d1b8dad5ea2746ae8f61ad97cc8fb914",
            "3f07714f8c4b419bb40450f118dbc8aa",
            "8e227607e5ab401ca63a87c9bc62a309",
            "5b630a3c8c94494e96266209cab9a0f2",
            "1482ae4955d44cceacda9ba9fd689904",
            "97595045c16944118de435591b8f9361",
            "7ffa1dd2e2d141bd8002afb3997350fe",
            "0f3b5de1c5d9405ea289fac89cdf2be0",
            "3f96d491b9b642e09ce202b2d760d81f",
            "b79254fae7fb4eee8df7419cb342f6e4",
            "3920f04633b54f41a79f6b142028994a",
            "c1651dc62eab4d3e994ce11b32d5fe52",
            "84d78bc43b884558a630ada4c5649596",
            "ac6339f84dab4244b2cb0d5e01a899d7",
            "07d5a992c9644a088c3492672af440b3",
            "b524fb62379f4f73a8cfdc7930f933dd",
            "056dfed9e3a14353b573c785984b4570",
            "dc6ea50a51c440a89a1ed65dd42ef6f0",
            "3d15b3d993c14bc4bc8fd8faed1012a1",
            "c69b79dd34e94834a32809ca1dc4fade",
            "57458a09224f40dda17ca723d2ea3c6d",
            "d17a6423b0f44f8bb107a57f37b4a1bd",
            "0574c8c54e5445039e7f3b41a9f97890",
            "c833eaedc625427b93a8939af4a0b86a",
            "7f716df24fab427484f4483da3988757",
            "771a89d9be3240c088b4cb57e9a647af",
            "3749703c26ab477a8011d034659dbb14",
            "4221b511dd5148dfbae1e7d0020574d6",
            "a5854ee75ef44dcdb96873caeddbc69f",
            "6c8b81dbd67040569ebf19b881335a3a",
            "7059d04cd7be47c984a4bce61d29dd07",
            "b85311a60f7a41a384bf0347f6708245",
            "a1420effb34d4428960032178a7646b5",
            "a0e9d0406e314ba784afe5140ce6b227",
            "e89c1d69d3c649999262fb2a18680c2d",
            "c434451eeea44504af58bb3bef6d2a30",
            "fe4ef032c2dd426fa766c89addcf4ecd",
            "97bf6665f8974b53a7e1061a13c16eba",
            "627cadbcb5914966b4758b5d510c4aa4",
            "77b7c93c7cfe452084fea0938c0174f2",
            "bbd3fc2ee2f64042aa5580c26657efe8",
            "e68a6a3639a64c49aade5e3de3ab5a0d",
            "c8cd2ed284da4d219ef24c89ae289b57",
            "035d457ab77d4492b0a1af4e18b660e8",
            "b38eb82baa2244ba89aeecb78ff84ee1",
            "18cb220d8bcb4b1eb9f64e1e7748143e",
            "bfbe86f7f81c4a37a25bdeebdef1311d",
            "df3b0ee3fa6640b2be2e094fff1e3fe7",
            "d94d76f17eb94648bd2eba2294a87f7d",
            "c7d8f36495b948528714b5c9c9fd92f2",
            "7bd2c094bb9c4199b8776b14609d211c",
            "3faa457f2b8d4c418bb096d413ff4598",
            "56b69a8056f74b858de4e2493cc375b7",
            "5e5d8466f92f4dcf82b89de7ccd48336",
            "558af674dc204b128f3ba0ebbefdd64e",
            "603eac64ae384eaa81bcb232b45d6da6",
            "908d120628404d7b92a916cac6520248",
            "e64a55ff62454af7ae9fdd21cc4367cb"
          ]
        },
        "id": "e60f487d",
        "outputId": "1da1e552-fba7-4b3e-8cdb-9fb00895866a"
      },
      "outputs": [
        {
          "data": {
            "application/vnd.jupyter.widget-view+json": {
              "model_id": "e113449bbbf64cbc98a7d2c91aa250ce",
              "version_major": 2,
              "version_minor": 0
            },
            "text/plain": [
              "Downloading model.safetensors:   0%|          | 0.00/892M [00:00<?, ?B/s]"
            ]
          },
          "metadata": {},
          "output_type": "display_data"
        },
        {
          "data": {
            "application/vnd.jupyter.widget-view+json": {
              "model_id": "21ad8033f16840d49a1d50b75d4bdf44",
              "version_major": 2,
              "version_minor": 0
            },
            "text/plain": [
              "Downloading (…)neration_config.json:   0%|          | 0.00/147 [00:00<?, ?B/s]"
            ]
          },
          "metadata": {},
          "output_type": "display_data"
        },
        {
          "metadata": {
            "tags": null
          },
          "name": "stderr",
          "output_type": "stream",
          "text": [
            "/usr/local/lib/python3.10/dist-packages/transformers/models/t5/tokenization_t5_fast.py:158: FutureWarning: This tokenizer was incorrectly instantiated with a model max length of 512 which will be corrected in Transformers v5.\n",
            "For now, this behavior is kept to avoid breaking backwards compatibility when padding/encoding with `truncation is True`.\n",
            "- Be aware that you SHOULD NOT rely on t5-base automatically truncating your input to 512 when padding/encoding.\n",
            "- If you want to encode/pad to sequences longer than 512 you can either instantiate this tokenizer with `model_max_length` or pass `max_length` when encoding/padding.\n",
            "- To avoid this warning, please instantiate this tokenizer with `model_max_length` set to your preferred value.\n",
            "  warnings.warn(\n"
          ]
        },
        {
          "data": {
            "application/vnd.jupyter.widget-view+json": {
              "model_id": "5b630a3c8c94494e96266209cab9a0f2",
              "version_major": 2,
              "version_minor": 0
            },
            "text/plain": [
              "Downloading data files:   0%|          | 0/1 [00:00<?, ?it/s]"
            ]
          },
          "metadata": {},
          "output_type": "display_data"
        },
        {
          "data": {
            "application/vnd.jupyter.widget-view+json": {
              "model_id": "07d5a992c9644a088c3492672af440b3",
              "version_major": 2,
              "version_minor": 0
            },
            "text/plain": [
              "Extracting data files:   0%|          | 0/1 [00:00<?, ?it/s]"
            ]
          },
          "metadata": {},
          "output_type": "display_data"
        },
        {
          "data": {
            "application/vnd.jupyter.widget-view+json": {
              "model_id": "771a89d9be3240c088b4cb57e9a647af",
              "version_major": 2,
              "version_minor": 0
            },
            "text/plain": [
              "Generating train split: 0 examples [00:00, ? examples/s]"
            ]
          },
          "metadata": {},
          "output_type": "display_data"
        },
        {
          "data": {
            "application/vnd.jupyter.widget-view+json": {
              "model_id": "fe4ef032c2dd426fa766c89addcf4ecd",
              "version_major": 2,
              "version_minor": 0
            },
            "text/plain": [
              "Map:   0%|          | 0/312693 [00:00<?, ? examples/s]"
            ]
          },
          "metadata": {},
          "output_type": "display_data"
        },
        {
          "data": {
            "application/vnd.jupyter.widget-view+json": {
              "model_id": "df3b0ee3fa6640b2be2e094fff1e3fe7",
              "version_major": 2,
              "version_minor": 0
            },
            "text/plain": [
              "Map:   0%|          | 0/34744 [00:00<?, ? examples/s]"
            ]
          },
          "metadata": {},
          "output_type": "display_data"
        },
        {
          "metadata": {
            "tags": null
          },
          "name": "stderr",
          "output_type": "stream",
          "text": [
            "You're using a T5TokenizerFast tokenizer. Please note that with a fast tokenizer, using the `__call__` method is faster than using a method to encode the text followed by a call to the `pad` method to get a padded encoding.\n"
          ]
        },
        {
          "data": {
            "text/html": [
              "\n",
              "    <div>\n",
              "      \n",
              "      <progress value='26470' max='39087' style='width:300px; height:20px; vertical-align: middle;'></progress>\n",
              "      [26470/39087 2:12:39 < 1:03:14, 3.33 it/s, Epoch 0.68/1]\n",
              "    </div>\n",
              "    <table border=\"1\" class=\"dataframe\">\n",
              "  <thead>\n",
              " <tr style=\"text-align: left;\">\n",
              "      <th>Step</th>\n",
              "      <th>Training Loss</th>\n",
              "      <th>Validation Loss</th>\n",
              "    </tr>\n",
              "  </thead>\n",
              "  <tbody>\n",
              "    <tr>\n",
              "      <td>1</td>\n",
              "      <td>1.450400</td>\n",
              "      <td>1.386198</td>\n",
              "    </tr>\n",
              "    <tr>\n",
              "      <td>3909</td>\n",
              "      <td>0.666900</td>\n",
              "      <td>0.571037</td>\n",
              "    </tr>\n",
              "    <tr>\n",
              "      <td>7818</td>\n",
              "      <td>0.613500</td>\n",
              "      <td>0.555068</td>\n",
              "    </tr>\n",
              "    <tr>\n",
              "      <td>11727</td>\n",
              "      <td>0.596200</td>\n",
              "      <td>0.544693</td>\n",
              "    </tr>\n",
              "    <tr>\n",
              "      <td>15636</td>\n",
              "      <td>0.583200</td>\n",
              "      <td>0.535152</td>\n",
              "    </tr>\n",
              "    <tr>\n",
              "      <td>19545</td>\n",
              "      <td>0.577900</td>\n",
              "      <td>0.530261</td>\n",
              "    </tr>\n",
              "    <tr>\n",
              "      <td>23454</td>\n",
              "      <td>0.574400</td>\n",
              "      <td>0.530726</td>\n",
              "    </tr>\n",
              "  </tbody>\n",
              "</table><p>"
            ],
            "text/plain": [
              "<IPython.core.display.HTML object>"
            ]
          },
          "metadata": {},
          "output_type": "display_data"
        },
        {
          "output_type": "display_data",
          "data": {
            "text/plain": [
              "<IPython.core.display.HTML object>"
            ],
            "text/html": [
              "\n",
              "    <div>\n",
              "      \n",
              "      <progress value='39087' max='39087' style='width:300px; height:20px; vertical-align: middle;'></progress>\n",
              "      [39087/39087 3:14:28, Epoch 1/1]\n",
              "    </div>\n",
              "    <table border=\"1\" class=\"dataframe\">\n",
              "  <thead>\n",
              " <tr style=\"text-align: left;\">\n",
              "      <th>Step</th>\n",
              "      <th>Training Loss</th>\n",
              "      <th>Validation Loss</th>\n",
              "    </tr>\n",
              "  </thead>\n",
              "  <tbody>\n",
              "    <tr>\n",
              "      <td>1</td>\n",
              "      <td>1.450400</td>\n",
              "      <td>1.386198</td>\n",
              "    </tr>\n",
              "    <tr>\n",
              "      <td>3909</td>\n",
              "      <td>0.666900</td>\n",
              "      <td>0.571037</td>\n",
              "    </tr>\n",
              "    <tr>\n",
              "      <td>7818</td>\n",
              "      <td>0.613500</td>\n",
              "      <td>0.555068</td>\n",
              "    </tr>\n",
              "    <tr>\n",
              "      <td>11727</td>\n",
              "      <td>0.596200</td>\n",
              "      <td>0.544693</td>\n",
              "    </tr>\n",
              "    <tr>\n",
              "      <td>15636</td>\n",
              "      <td>0.583200</td>\n",
              "      <td>0.535152</td>\n",
              "    </tr>\n",
              "    <tr>\n",
              "      <td>19545</td>\n",
              "      <td>0.577900</td>\n",
              "      <td>0.530261</td>\n",
              "    </tr>\n",
              "    <tr>\n",
              "      <td>23454</td>\n",
              "      <td>0.574400</td>\n",
              "      <td>0.530726</td>\n",
              "    </tr>\n",
              "    <tr>\n",
              "      <td>27363</td>\n",
              "      <td>0.568100</td>\n",
              "      <td>0.523544</td>\n",
              "    </tr>\n",
              "    <tr>\n",
              "      <td>31272</td>\n",
              "      <td>0.573500</td>\n",
              "      <td>0.522119</td>\n",
              "    </tr>\n",
              "    <tr>\n",
              "      <td>35181</td>\n",
              "      <td>0.566500</td>\n",
              "      <td>0.521160</td>\n",
              "    </tr>\n",
              "  </tbody>\n",
              "</table><p>"
            ]
          },
          "metadata": {}
        }
      ],
      "source": [
        "happy_tt = HappyTextToText(\"T5\", \"t5-base\")\n",
        "\n",
        "\n",
        "args = TTTrainArgs(batch_size=8)\n",
        "happy_tt.train(\"train.csv\", args=args)"
      ]
    },
    {
      "cell_type": "markdown",
      "id": "8540ecd9",
      "metadata": {
        "papermill": {
          "duration": 0.01349,
          "end_time": "2023-08-06T00:12:49.952502",
          "exception": false,
          "start_time": "2023-08-06T00:12:49.939012",
          "status": "completed"
        },
        "tags": [],
        "id": "8540ecd9"
      },
      "source": [
        "**BEAM SEARCH ALGORITHM**"
      ]
    },
    {
      "cell_type": "code",
      "execution_count": null,
      "id": "cad2b39e",
      "metadata": {
        "execution": {
          "iopub.execute_input": "2023-08-06T00:12:49.981055Z",
          "iopub.status.busy": "2023-08-06T00:12:49.980733Z",
          "iopub.status.idle": "2023-08-06T00:12:49.986439Z",
          "shell.execute_reply": "2023-08-06T00:12:49.985345Z"
        },
        "papermill": {
          "duration": 0.022842,
          "end_time": "2023-08-06T00:12:49.988771",
          "exception": false,
          "start_time": "2023-08-06T00:12:49.965929",
          "status": "completed"
        },
        "tags": [],
        "id": "cad2b39e"
      },
      "outputs": [],
      "source": [
        "def generate_text(input_text, happy_tt, tokenizer, beam_settings):\n",
        "    input_text = \"grammar: \" + input_text\n",
        "    result = happy_tt.generate_text(input_text, args=beam_settings)\n",
        "    return result.text\n",
        "\n",
        "beam_settings =  TTSettings(num_beams=2, min_length=1, max_length=50)"
      ]
    },
    {
      "cell_type": "markdown",
      "id": "ebe656ea",
      "metadata": {
        "papermill": {
          "duration": 0.014483,
          "end_time": "2023-08-06T00:12:50.017358",
          "exception": false,
          "start_time": "2023-08-06T00:12:50.002875",
          "status": "completed"
        },
        "tags": [],
        "id": "ebe656ea"
      },
      "source": [
        "**EXAMPLES**"
      ]
    },
    {
      "cell_type": "code",
      "execution_count": null,
      "id": "179d35c1",
      "metadata": {
        "execution": {
          "iopub.execute_input": "2023-08-06T00:12:50.051861Z",
          "iopub.status.busy": "2023-08-06T00:12:50.050176Z",
          "iopub.status.idle": "2023-08-06T00:12:50.420299Z",
          "shell.execute_reply": "2023-08-06T00:12:50.419048Z"
        },
        "papermill": {
          "duration": 0.389624,
          "end_time": "2023-08-06T00:12:50.422379",
          "exception": false,
          "start_time": "2023-08-06T00:12:50.032755",
          "status": "completed"
        },
        "tags": [],
        "id": "179d35c1",
        "colab": {
          "base_uri": "https://localhost:8080/"
        },
        "outputId": "571c13a0-71a8-4f2f-de9b-25c3c9972609"
      },
      "outputs": [
        {
          "output_type": "stream",
          "name": "stdout",
          "text": [
            "grammar: I am a girl .\n"
          ]
        }
      ],
      "source": [
        "example_1 = \"I is girl\"\n",
        "result_1 = generate_text(example_1, happy_tt, tokenizer, beam_settings)\n",
        "print(result_1)"
      ]
    },
    {
      "cell_type": "code",
      "execution_count": null,
      "id": "001bc7d7",
      "metadata": {
        "execution": {
          "iopub.execute_input": "2023-08-06T00:12:50.450383Z",
          "iopub.status.busy": "2023-08-06T00:12:50.450108Z",
          "iopub.status.idle": "2023-08-06T00:12:50.795725Z",
          "shell.execute_reply": "2023-08-06T00:12:50.794503Z"
        },
        "papermill": {
          "duration": 0.361791,
          "end_time": "2023-08-06T00:12:50.797627",
          "exception": false,
          "start_time": "2023-08-06T00:12:50.435836",
          "status": "completed"
        },
        "tags": [],
        "id": "001bc7d7",
        "colab": {
          "base_uri": "https://localhost:8080/"
        },
        "outputId": "2583c9a4-3fb2-4fc9-f4d8-eb1eba967497"
      },
      "outputs": [
        {
          "output_type": "stream",
          "name": "stdout",
          "text": [
            "grammar: I enjoy writing articles on AI and I also enjoy writing articling on AI .\n"
          ]
        }
      ],
      "source": [
        "example_2 = \"I am enjoys, writtings articles ons AI and I also enjoyed write articling on AI.\"\n",
        "result_2 = generate_text(example_2, happy_tt, tokenizer, beam_settings)\n",
        "print(result_2)\n"
      ]
    },
    {
      "cell_type": "code",
      "execution_count": null,
      "id": "b867c769",
      "metadata": {
        "execution": {
          "iopub.execute_input": "2023-08-06T00:12:50.827001Z",
          "iopub.status.busy": "2023-08-06T00:12:50.825491Z",
          "iopub.status.idle": "2023-08-06T00:12:50.830863Z",
          "shell.execute_reply": "2023-08-06T00:12:50.830020Z"
        },
        "papermill": {
          "duration": 0.021797,
          "end_time": "2023-08-06T00:12:50.832879",
          "exception": false,
          "start_time": "2023-08-06T00:12:50.811082",
          "status": "completed"
        },
        "tags": [],
        "id": "b867c769"
      },
      "outputs": [],
      "source": [
        "import pickle"
      ]
    },
    {
      "cell_type": "code",
      "execution_count": null,
      "id": "1f2894f6",
      "metadata": {
        "execution": {
          "iopub.execute_input": "2023-08-06T00:12:50.861602Z",
          "iopub.status.busy": "2023-08-06T00:12:50.861342Z",
          "iopub.status.idle": "2023-08-06T00:12:53.726024Z",
          "shell.execute_reply": "2023-08-06T00:12:53.724944Z"
        },
        "papermill": {
          "duration": 2.881438,
          "end_time": "2023-08-06T00:12:53.728538",
          "exception": false,
          "start_time": "2023-08-06T00:12:50.847100",
          "status": "completed"
        },
        "tags": [],
        "id": "1f2894f6"
      },
      "outputs": [],
      "source": [
        "pickle.dump(happy_tt, open('/content/drive/MyDrive/model','wb'))"
      ]
    },
    {
      "cell_type": "code",
      "execution_count": null,
      "id": "1c05310a",
      "metadata": {
        "execution": {
          "iopub.execute_input": "2023-08-06T00:12:56.356065Z",
          "iopub.status.busy": "2023-08-06T00:12:56.355411Z",
          "iopub.status.idle": "2023-08-06T00:13:08.550317Z",
          "shell.execute_reply": "2023-08-06T00:13:08.549162Z"
        },
        "papermill": {
          "duration": 12.212605,
          "end_time": "2023-08-06T00:13:08.552502",
          "exception": false,
          "start_time": "2023-08-06T00:12:56.339897",
          "status": "completed"
        },
        "tags": [],
        "id": "1c05310a",
        "colab": {
          "base_uri": "https://localhost:8080/"
        },
        "outputId": "8f3ffeca-8d3f-45de-deaa-c7b1a4363e56"
      },
      "outputs": [
        {
          "output_type": "stream",
          "name": "stdout",
          "text": [
            "Requirement already satisfied: joblib in /usr/local/lib/python3.10/dist-packages (1.3.2)\n"
          ]
        }
      ],
      "source": [
        "!pip install joblib"
      ]
    },
    {
      "cell_type": "code",
      "execution_count": null,
      "id": "67606b55",
      "metadata": {
        "execution": {
          "iopub.execute_input": "2023-08-06T00:13:08.582746Z",
          "iopub.status.busy": "2023-08-06T00:13:08.582031Z",
          "iopub.status.idle": "2023-08-06T00:13:13.632685Z",
          "shell.execute_reply": "2023-08-06T00:13:13.631616Z"
        },
        "papermill": {
          "duration": 5.068879,
          "end_time": "2023-08-06T00:13:13.635679",
          "exception": false,
          "start_time": "2023-08-06T00:13:08.566800",
          "status": "completed"
        },
        "tags": [],
        "id": "67606b55"
      },
      "outputs": [],
      "source": [
        "import joblib\n",
        "\n",
        "# Assuming happy_tt is the object you want to save\n",
        "\n",
        "# To save the object using joblib\n",
        "joblib.dump(happy_tt, '/content/drive/MyDrive/model.joblib')\n",
        "\n",
        "# To load the object from the saved file\n",
        "loaded_happy_tt = joblib.load('/content/drive/MyDrive/model.joblib')\n"
      ]
    },
    {
      "cell_type": "code",
      "source": [
        "!pip install nltk\n",
        "!pip install happytransformer\n",
        "!pip install joblib\n",
        "import nltk\n",
        "from happytransformer import HappyTextToText\n",
        "l_happy_tt = joblib.load('/content/drive/MyDrive/model.joblib')\n",
        "\n",
        "# Define reference and hypothesis lists\n",
        "references = [\"Jack is a boy. He cooks good food for us.\", \"I love your dress. It is so pretty.\"]\n",
        "hypotheses = []\n",
        "\n",
        "# Generate hypotheses using your model for input sentences\n",
        "input_sentences = [\"Jack a boy. She cook food for we\", \"I love you dress. It at very pretty\"]\n",
        "\n",
        "for sentence in input_sentences:\n",
        "    # Generate a hypothesis for each input sentence\n",
        "    hypothesis = generate_text(sentence, loaded_happy_tt, tokenizer, beam_settings)\n",
        "    hypotheses.append(hypothesis)\n",
        "\n",
        "# Calculate GLEU score\n",
        "gleu_score = nltk.translate.gleu_score.corpus_gleu(references, hypotheses)\n",
        "\n",
        "print(f\"GLEU Score: {gleu_score}\")"
      ],
      "metadata": {
        "id": "1HQsolhh8V1j",
        "colab": {
          "base_uri": "https://localhost:8080/"
        },
        "outputId": "d44875ff-bc56-473d-a26c-7a0b825fac4f"
      },
      "id": "1HQsolhh8V1j",
      "execution_count": null,
      "outputs": [
        {
          "output_type": "stream",
          "name": "stdout",
          "text": [
            "Requirement already satisfied: nltk in /usr/local/lib/python3.10/dist-packages (3.8.1)\n",
            "Requirement already satisfied: click in /usr/local/lib/python3.10/dist-packages (from nltk) (8.1.7)\n",
            "Requirement already satisfied: joblib in /usr/local/lib/python3.10/dist-packages (from nltk) (1.3.2)\n",
            "Requirement already satisfied: regex>=2021.8.3 in /usr/local/lib/python3.10/dist-packages (from nltk) (2023.6.3)\n",
            "Requirement already satisfied: tqdm in /usr/local/lib/python3.10/dist-packages (from nltk) (4.66.1)\n",
            "Requirement already satisfied: happytransformer in /usr/local/lib/python3.10/dist-packages (3.0.0)\n",
            "Requirement already satisfied: torch>=1.0 in /usr/local/lib/python3.10/dist-packages (from happytransformer) (2.0.1+cu118)\n",
            "Requirement already satisfied: tqdm>=4.43 in /usr/local/lib/python3.10/dist-packages (from happytransformer) (4.66.1)\n",
            "Requirement already satisfied: transformers<5.0.0,>=4.30.1 in /usr/local/lib/python3.10/dist-packages (from happytransformer) (4.34.0)\n",
            "Requirement already satisfied: datasets<3.0.0,>=2.13.1 in /usr/local/lib/python3.10/dist-packages (from happytransformer) (2.14.5)\n",
            "Requirement already satisfied: sentencepiece in /usr/local/lib/python3.10/dist-packages (from happytransformer) (0.1.99)\n",
            "Requirement already satisfied: protobuf in /usr/local/lib/python3.10/dist-packages (from happytransformer) (3.20.3)\n",
            "Requirement already satisfied: accelerate<1.0.0,>=0.20.1 in /usr/local/lib/python3.10/dist-packages (from happytransformer) (0.23.0)\n",
            "Requirement already satisfied: tokenizers<1.0.0,>=0.13.3 in /usr/local/lib/python3.10/dist-packages (from happytransformer) (0.14.0)\n",
            "Requirement already satisfied: wandb in /usr/local/lib/python3.10/dist-packages (from happytransformer) (0.15.12)\n",
            "Requirement already satisfied: numpy>=1.17 in /usr/local/lib/python3.10/dist-packages (from accelerate<1.0.0,>=0.20.1->happytransformer) (1.23.5)\n",
            "Requirement already satisfied: packaging>=20.0 in /usr/local/lib/python3.10/dist-packages (from accelerate<1.0.0,>=0.20.1->happytransformer) (23.1)\n",
            "Requirement already satisfied: psutil in /usr/local/lib/python3.10/dist-packages (from accelerate<1.0.0,>=0.20.1->happytransformer) (5.9.5)\n",
            "Requirement already satisfied: pyyaml in /usr/local/lib/python3.10/dist-packages (from accelerate<1.0.0,>=0.20.1->happytransformer) (6.0.1)\n",
            "Requirement already satisfied: huggingface-hub in /usr/local/lib/python3.10/dist-packages (from accelerate<1.0.0,>=0.20.1->happytransformer) (0.16.4)\n",
            "Requirement already satisfied: pyarrow>=8.0.0 in /usr/local/lib/python3.10/dist-packages (from datasets<3.0.0,>=2.13.1->happytransformer) (9.0.0)\n",
            "Requirement already satisfied: dill<0.3.8,>=0.3.0 in /usr/local/lib/python3.10/dist-packages (from datasets<3.0.0,>=2.13.1->happytransformer) (0.3.7)\n",
            "Requirement already satisfied: pandas in /usr/local/lib/python3.10/dist-packages (from datasets<3.0.0,>=2.13.1->happytransformer) (1.5.3)\n",
            "Requirement already satisfied: requests>=2.19.0 in /usr/local/lib/python3.10/dist-packages (from datasets<3.0.0,>=2.13.1->happytransformer) (2.31.0)\n",
            "Requirement already satisfied: xxhash in /usr/local/lib/python3.10/dist-packages (from datasets<3.0.0,>=2.13.1->happytransformer) (3.4.1)\n",
            "Requirement already satisfied: multiprocess in /usr/local/lib/python3.10/dist-packages (from datasets<3.0.0,>=2.13.1->happytransformer) (0.70.15)\n",
            "Requirement already satisfied: fsspec[http]<2023.9.0,>=2023.1.0 in /usr/local/lib/python3.10/dist-packages (from datasets<3.0.0,>=2.13.1->happytransformer) (2023.6.0)\n",
            "Requirement already satisfied: aiohttp in /usr/local/lib/python3.10/dist-packages (from datasets<3.0.0,>=2.13.1->happytransformer) (3.8.5)\n",
            "Requirement already satisfied: filelock in /usr/local/lib/python3.10/dist-packages (from torch>=1.0->happytransformer) (3.12.4)\n",
            "Requirement already satisfied: typing-extensions in /usr/local/lib/python3.10/dist-packages (from torch>=1.0->happytransformer) (4.5.0)\n",
            "Requirement already satisfied: sympy in /usr/local/lib/python3.10/dist-packages (from torch>=1.0->happytransformer) (1.12)\n",
            "Requirement already satisfied: networkx in /usr/local/lib/python3.10/dist-packages (from torch>=1.0->happytransformer) (3.1)\n",
            "Requirement already satisfied: jinja2 in /usr/local/lib/python3.10/dist-packages (from torch>=1.0->happytransformer) (3.1.2)\n",
            "Requirement already satisfied: triton==2.0.0 in /usr/local/lib/python3.10/dist-packages (from torch>=1.0->happytransformer) (2.0.0)\n",
            "Requirement already satisfied: cmake in /usr/local/lib/python3.10/dist-packages (from triton==2.0.0->torch>=1.0->happytransformer) (3.27.5)\n",
            "Requirement already satisfied: lit in /usr/local/lib/python3.10/dist-packages (from triton==2.0.0->torch>=1.0->happytransformer) (17.0.1)\n",
            "Requirement already satisfied: regex!=2019.12.17 in /usr/local/lib/python3.10/dist-packages (from transformers<5.0.0,>=4.30.1->happytransformer) (2023.6.3)\n",
            "Requirement already satisfied: safetensors>=0.3.1 in /usr/local/lib/python3.10/dist-packages (from transformers<5.0.0,>=4.30.1->happytransformer) (0.3.3)\n",
            "Requirement already satisfied: Click!=8.0.0,>=7.1 in /usr/local/lib/python3.10/dist-packages (from wandb->happytransformer) (8.1.7)\n",
            "Requirement already satisfied: GitPython!=3.1.29,>=1.0.0 in /usr/local/lib/python3.10/dist-packages (from wandb->happytransformer) (3.1.37)\n",
            "Requirement already satisfied: sentry-sdk>=1.0.0 in /usr/local/lib/python3.10/dist-packages (from wandb->happytransformer) (1.31.0)\n",
            "Requirement already satisfied: docker-pycreds>=0.4.0 in /usr/local/lib/python3.10/dist-packages (from wandb->happytransformer) (0.4.0)\n",
            "Requirement already satisfied: pathtools in /usr/local/lib/python3.10/dist-packages (from wandb->happytransformer) (0.1.2)\n",
            "Requirement already satisfied: setproctitle in /usr/local/lib/python3.10/dist-packages (from wandb->happytransformer) (1.3.3)\n",
            "Requirement already satisfied: setuptools in /usr/local/lib/python3.10/dist-packages (from wandb->happytransformer) (67.7.2)\n",
            "Requirement already satisfied: appdirs>=1.4.3 in /usr/local/lib/python3.10/dist-packages (from wandb->happytransformer) (1.4.4)\n",
            "Requirement already satisfied: six>=1.4.0 in /usr/local/lib/python3.10/dist-packages (from docker-pycreds>=0.4.0->wandb->happytransformer) (1.16.0)\n",
            "Requirement already satisfied: attrs>=17.3.0 in /usr/local/lib/python3.10/dist-packages (from aiohttp->datasets<3.0.0,>=2.13.1->happytransformer) (23.1.0)\n",
            "Requirement already satisfied: charset-normalizer<4.0,>=2.0 in /usr/local/lib/python3.10/dist-packages (from aiohttp->datasets<3.0.0,>=2.13.1->happytransformer) (3.2.0)\n",
            "Requirement already satisfied: multidict<7.0,>=4.5 in /usr/local/lib/python3.10/dist-packages (from aiohttp->datasets<3.0.0,>=2.13.1->happytransformer) (6.0.4)\n",
            "Requirement already satisfied: async-timeout<5.0,>=4.0.0a3 in /usr/local/lib/python3.10/dist-packages (from aiohttp->datasets<3.0.0,>=2.13.1->happytransformer) (4.0.3)\n",
            "Requirement already satisfied: yarl<2.0,>=1.0 in /usr/local/lib/python3.10/dist-packages (from aiohttp->datasets<3.0.0,>=2.13.1->happytransformer) (1.9.2)\n",
            "Requirement already satisfied: frozenlist>=1.1.1 in /usr/local/lib/python3.10/dist-packages (from aiohttp->datasets<3.0.0,>=2.13.1->happytransformer) (1.4.0)\n",
            "Requirement already satisfied: aiosignal>=1.1.2 in /usr/local/lib/python3.10/dist-packages (from aiohttp->datasets<3.0.0,>=2.13.1->happytransformer) (1.3.1)\n",
            "Requirement already satisfied: gitdb<5,>=4.0.1 in /usr/local/lib/python3.10/dist-packages (from GitPython!=3.1.29,>=1.0.0->wandb->happytransformer) (4.0.10)\n",
            "Requirement already satisfied: idna<4,>=2.5 in /usr/local/lib/python3.10/dist-packages (from requests>=2.19.0->datasets<3.0.0,>=2.13.1->happytransformer) (3.4)\n",
            "Requirement already satisfied: urllib3<3,>=1.21.1 in /usr/local/lib/python3.10/dist-packages (from requests>=2.19.0->datasets<3.0.0,>=2.13.1->happytransformer) (2.0.5)\n",
            "Requirement already satisfied: certifi>=2017.4.17 in /usr/local/lib/python3.10/dist-packages (from requests>=2.19.0->datasets<3.0.0,>=2.13.1->happytransformer) (2023.7.22)\n",
            "Requirement already satisfied: MarkupSafe>=2.0 in /usr/local/lib/python3.10/dist-packages (from jinja2->torch>=1.0->happytransformer) (2.1.3)\n",
            "Requirement already satisfied: python-dateutil>=2.8.1 in /usr/local/lib/python3.10/dist-packages (from pandas->datasets<3.0.0,>=2.13.1->happytransformer) (2.8.2)\n",
            "Requirement already satisfied: pytz>=2020.1 in /usr/local/lib/python3.10/dist-packages (from pandas->datasets<3.0.0,>=2.13.1->happytransformer) (2023.3.post1)\n",
            "Requirement already satisfied: mpmath>=0.19 in /usr/local/lib/python3.10/dist-packages (from sympy->torch>=1.0->happytransformer) (1.3.0)\n",
            "Requirement already satisfied: smmap<6,>=3.0.1 in /usr/local/lib/python3.10/dist-packages (from gitdb<5,>=4.0.1->GitPython!=3.1.29,>=1.0.0->wandb->happytransformer) (5.0.1)\n",
            "Requirement already satisfied: joblib in /usr/local/lib/python3.10/dist-packages (1.3.2)\n",
            "GLEU Score: 0.005681818181818182\n"
          ]
        }
      ]
    },
    {
      "cell_type": "code",
      "source": [
        "#Load the saved model that is trained on the dataset\n",
        "loaded_happy_tt = joblib.load('/content/drive/MyDrive/model.joblib')\n"
      ],
      "metadata": {
        "id": "6c6qcsAymADL"
      },
      "id": "6c6qcsAymADL",
      "execution_count": null,
      "outputs": []
    },
    {
      "cell_type": "code",
      "source": [
        "example_1 = \"\" #Your Input Here\n",
        "result_1 = generate_text(example_1, loaded_happy_tt, tokenizer, beam_settings)\n",
        "print(result_1)"
      ],
      "metadata": {
        "id": "f21QUMhjmG_d"
      },
      "id": "f21QUMhjmG_d",
      "execution_count": null,
      "outputs": []
    }
  ],
  "metadata": {
    "kernelspec": {
      "display_name": "Python 3",
      "name": "python3"
    },
    "language_info": {
      "codemirror_mode": {
        "name": "ipython",
        "version": 3
      },
      "file_extension": ".py",
      "mimetype": "text/x-python",
      "name": "python",
      "nbconvert_exporter": "python",
      "pygments_lexer": "ipython3",
      "version": "3.9.13"
    },
    "papermill": {
      "default_parameters": {},
      "duration": 20574.90753,
      "end_time": "2023-08-06T00:13:16.926692",
      "environment_variables": {},
      "exception": null,
      "input_path": "__notebook__.ipynb",
      "output_path": "__notebook__.ipynb",
      "parameters": {},
      "start_time": "2023-08-05T18:30:22.019162",
      "version": "2.4.0"
    },
    "widgets": {
      "application/vnd.jupyter.widget-state+json": {
        "20380b23539c4fc6b9c68316604324a1": {
          "model_module": "@jupyter-widgets/controls",
          "model_name": "HBoxModel",
          "model_module_version": "1.5.0",
          "state": {
            "_dom_classes": [],
            "_model_module": "@jupyter-widgets/controls",
            "_model_module_version": "1.5.0",
            "_model_name": "HBoxModel",
            "_view_count": null,
            "_view_module": "@jupyter-widgets/controls",
            "_view_module_version": "1.5.0",
            "_view_name": "HBoxView",
            "box_style": "",
            "children": [
              "IPY_MODEL_c86249f51b8b4f778aa485b019b593ee",
              "IPY_MODEL_6ab29c93e1ee4b5bb370b73caa509c6f",
              "IPY_MODEL_d358bff6793a45cbbc861a565140ded4"
            ],
            "layout": "IPY_MODEL_77c79799f9304913af5c43abcd050ce6"
          }
        },
        "c86249f51b8b4f778aa485b019b593ee": {
          "model_module": "@jupyter-widgets/controls",
          "model_name": "HTMLModel",
          "model_module_version": "1.5.0",
          "state": {
            "_dom_classes": [],
            "_model_module": "@jupyter-widgets/controls",
            "_model_module_version": "1.5.0",
            "_model_name": "HTMLModel",
            "_view_count": null,
            "_view_module": "@jupyter-widgets/controls",
            "_view_module_version": "1.5.0",
            "_view_name": "HTMLView",
            "description": "",
            "description_tooltip": null,
            "layout": "IPY_MODEL_9625bcc5dee5409fabfe482ab3909cc4",
            "placeholder": "​",
            "style": "IPY_MODEL_c983944ccfff464e90dab8a397c5e524",
            "value": "Downloading (…)ve/main/spiece.model: 100%"
          }
        },
        "6ab29c93e1ee4b5bb370b73caa509c6f": {
          "model_module": "@jupyter-widgets/controls",
          "model_name": "FloatProgressModel",
          "model_module_version": "1.5.0",
          "state": {
            "_dom_classes": [],
            "_model_module": "@jupyter-widgets/controls",
            "_model_module_version": "1.5.0",
            "_model_name": "FloatProgressModel",
            "_view_count": null,
            "_view_module": "@jupyter-widgets/controls",
            "_view_module_version": "1.5.0",
            "_view_name": "ProgressView",
            "bar_style": "success",
            "description": "",
            "description_tooltip": null,
            "layout": "IPY_MODEL_273bb720dd0a43aa9e62b21188ee58ea",
            "max": 791656,
            "min": 0,
            "orientation": "horizontal",
            "style": "IPY_MODEL_4927199a66be4a2c8fe2f99ece41e2c6",
            "value": 791656
          }
        },
        "d358bff6793a45cbbc861a565140ded4": {
          "model_module": "@jupyter-widgets/controls",
          "model_name": "HTMLModel",
          "model_module_version": "1.5.0",
          "state": {
            "_dom_classes": [],
            "_model_module": "@jupyter-widgets/controls",
            "_model_module_version": "1.5.0",
            "_model_name": "HTMLModel",
            "_view_count": null,
            "_view_module": "@jupyter-widgets/controls",
            "_view_module_version": "1.5.0",
            "_view_name": "HTMLView",
            "description": "",
            "description_tooltip": null,
            "layout": "IPY_MODEL_d3614740cbdf43389dfab37f7f029474",
            "placeholder": "​",
            "style": "IPY_MODEL_b6fda70fbed14901b5fa106c686dcfa3",
            "value": " 792k/792k [00:00&lt;00:00, 7.08MB/s]"
          }
        },
        "77c79799f9304913af5c43abcd050ce6": {
          "model_module": "@jupyter-widgets/base",
          "model_name": "LayoutModel",
          "model_module_version": "1.2.0",
          "state": {
            "_model_module": "@jupyter-widgets/base",
            "_model_module_version": "1.2.0",
            "_model_name": "LayoutModel",
            "_view_count": null,
            "_view_module": "@jupyter-widgets/base",
            "_view_module_version": "1.2.0",
            "_view_name": "LayoutView",
            "align_content": null,
            "align_items": null,
            "align_self": null,
            "border": null,
            "bottom": null,
            "display": null,
            "flex": null,
            "flex_flow": null,
            "grid_area": null,
            "grid_auto_columns": null,
            "grid_auto_flow": null,
            "grid_auto_rows": null,
            "grid_column": null,
            "grid_gap": null,
            "grid_row": null,
            "grid_template_areas": null,
            "grid_template_columns": null,
            "grid_template_rows": null,
            "height": null,
            "justify_content": null,
            "justify_items": null,
            "left": null,
            "margin": null,
            "max_height": null,
            "max_width": null,
            "min_height": null,
            "min_width": null,
            "object_fit": null,
            "object_position": null,
            "order": null,
            "overflow": null,
            "overflow_x": null,
            "overflow_y": null,
            "padding": null,
            "right": null,
            "top": null,
            "visibility": null,
            "width": null
          }
        },
        "9625bcc5dee5409fabfe482ab3909cc4": {
          "model_module": "@jupyter-widgets/base",
          "model_name": "LayoutModel",
          "model_module_version": "1.2.0",
          "state": {
            "_model_module": "@jupyter-widgets/base",
            "_model_module_version": "1.2.0",
            "_model_name": "LayoutModel",
            "_view_count": null,
            "_view_module": "@jupyter-widgets/base",
            "_view_module_version": "1.2.0",
            "_view_name": "LayoutView",
            "align_content": null,
            "align_items": null,
            "align_self": null,
            "border": null,
            "bottom": null,
            "display": null,
            "flex": null,
            "flex_flow": null,
            "grid_area": null,
            "grid_auto_columns": null,
            "grid_auto_flow": null,
            "grid_auto_rows": null,
            "grid_column": null,
            "grid_gap": null,
            "grid_row": null,
            "grid_template_areas": null,
            "grid_template_columns": null,
            "grid_template_rows": null,
            "height": null,
            "justify_content": null,
            "justify_items": null,
            "left": null,
            "margin": null,
            "max_height": null,
            "max_width": null,
            "min_height": null,
            "min_width": null,
            "object_fit": null,
            "object_position": null,
            "order": null,
            "overflow": null,
            "overflow_x": null,
            "overflow_y": null,
            "padding": null,
            "right": null,
            "top": null,
            "visibility": null,
            "width": null
          }
        },
        "c983944ccfff464e90dab8a397c5e524": {
          "model_module": "@jupyter-widgets/controls",
          "model_name": "DescriptionStyleModel",
          "model_module_version": "1.5.0",
          "state": {
            "_model_module": "@jupyter-widgets/controls",
            "_model_module_version": "1.5.0",
            "_model_name": "DescriptionStyleModel",
            "_view_count": null,
            "_view_module": "@jupyter-widgets/base",
            "_view_module_version": "1.2.0",
            "_view_name": "StyleView",
            "description_width": ""
          }
        },
        "273bb720dd0a43aa9e62b21188ee58ea": {
          "model_module": "@jupyter-widgets/base",
          "model_name": "LayoutModel",
          "model_module_version": "1.2.0",
          "state": {
            "_model_module": "@jupyter-widgets/base",
            "_model_module_version": "1.2.0",
            "_model_name": "LayoutModel",
            "_view_count": null,
            "_view_module": "@jupyter-widgets/base",
            "_view_module_version": "1.2.0",
            "_view_name": "LayoutView",
            "align_content": null,
            "align_items": null,
            "align_self": null,
            "border": null,
            "bottom": null,
            "display": null,
            "flex": null,
            "flex_flow": null,
            "grid_area": null,
            "grid_auto_columns": null,
            "grid_auto_flow": null,
            "grid_auto_rows": null,
            "grid_column": null,
            "grid_gap": null,
            "grid_row": null,
            "grid_template_areas": null,
            "grid_template_columns": null,
            "grid_template_rows": null,
            "height": null,
            "justify_content": null,
            "justify_items": null,
            "left": null,
            "margin": null,
            "max_height": null,
            "max_width": null,
            "min_height": null,
            "min_width": null,
            "object_fit": null,
            "object_position": null,
            "order": null,
            "overflow": null,
            "overflow_x": null,
            "overflow_y": null,
            "padding": null,
            "right": null,
            "top": null,
            "visibility": null,
            "width": null
          }
        },
        "4927199a66be4a2c8fe2f99ece41e2c6": {
          "model_module": "@jupyter-widgets/controls",
          "model_name": "ProgressStyleModel",
          "model_module_version": "1.5.0",
          "state": {
            "_model_module": "@jupyter-widgets/controls",
            "_model_module_version": "1.5.0",
            "_model_name": "ProgressStyleModel",
            "_view_count": null,
            "_view_module": "@jupyter-widgets/base",
            "_view_module_version": "1.2.0",
            "_view_name": "StyleView",
            "bar_color": null,
            "description_width": ""
          }
        },
        "d3614740cbdf43389dfab37f7f029474": {
          "model_module": "@jupyter-widgets/base",
          "model_name": "LayoutModel",
          "model_module_version": "1.2.0",
          "state": {
            "_model_module": "@jupyter-widgets/base",
            "_model_module_version": "1.2.0",
            "_model_name": "LayoutModel",
            "_view_count": null,
            "_view_module": "@jupyter-widgets/base",
            "_view_module_version": "1.2.0",
            "_view_name": "LayoutView",
            "align_content": null,
            "align_items": null,
            "align_self": null,
            "border": null,
            "bottom": null,
            "display": null,
            "flex": null,
            "flex_flow": null,
            "grid_area": null,
            "grid_auto_columns": null,
            "grid_auto_flow": null,
            "grid_auto_rows": null,
            "grid_column": null,
            "grid_gap": null,
            "grid_row": null,
            "grid_template_areas": null,
            "grid_template_columns": null,
            "grid_template_rows": null,
            "height": null,
            "justify_content": null,
            "justify_items": null,
            "left": null,
            "margin": null,
            "max_height": null,
            "max_width": null,
            "min_height": null,
            "min_width": null,
            "object_fit": null,
            "object_position": null,
            "order": null,
            "overflow": null,
            "overflow_x": null,
            "overflow_y": null,
            "padding": null,
            "right": null,
            "top": null,
            "visibility": null,
            "width": null
          }
        },
        "b6fda70fbed14901b5fa106c686dcfa3": {
          "model_module": "@jupyter-widgets/controls",
          "model_name": "DescriptionStyleModel",
          "model_module_version": "1.5.0",
          "state": {
            "_model_module": "@jupyter-widgets/controls",
            "_model_module_version": "1.5.0",
            "_model_name": "DescriptionStyleModel",
            "_view_count": null,
            "_view_module": "@jupyter-widgets/base",
            "_view_module_version": "1.2.0",
            "_view_name": "StyleView",
            "description_width": ""
          }
        },
        "54c86b1c8a0941508c7d5829c03aa9f6": {
          "model_module": "@jupyter-widgets/controls",
          "model_name": "HBoxModel",
          "model_module_version": "1.5.0",
          "state": {
            "_dom_classes": [],
            "_model_module": "@jupyter-widgets/controls",
            "_model_module_version": "1.5.0",
            "_model_name": "HBoxModel",
            "_view_count": null,
            "_view_module": "@jupyter-widgets/controls",
            "_view_module_version": "1.5.0",
            "_view_name": "HBoxView",
            "box_style": "",
            "children": [
              "IPY_MODEL_fe6fcb3d0eb74782ad428ee540a01dbc",
              "IPY_MODEL_0fd349f9d65d44bc8adb307413994e4e",
              "IPY_MODEL_ed8247973bcf448aa922674c6413ccb8"
            ],
            "layout": "IPY_MODEL_a4ac0c3e53e845bbb7c5116f4df36e5d"
          }
        },
        "fe6fcb3d0eb74782ad428ee540a01dbc": {
          "model_module": "@jupyter-widgets/controls",
          "model_name": "HTMLModel",
          "model_module_version": "1.5.0",
          "state": {
            "_dom_classes": [],
            "_model_module": "@jupyter-widgets/controls",
            "_model_module_version": "1.5.0",
            "_model_name": "HTMLModel",
            "_view_count": null,
            "_view_module": "@jupyter-widgets/controls",
            "_view_module_version": "1.5.0",
            "_view_name": "HTMLView",
            "description": "",
            "description_tooltip": null,
            "layout": "IPY_MODEL_f5ccb9fd007647bdacc7503a327f018d",
            "placeholder": "​",
            "style": "IPY_MODEL_34b20a21181b49bda923912369f1ae82",
            "value": "Downloading (…)/main/tokenizer.json: 100%"
          }
        },
        "0fd349f9d65d44bc8adb307413994e4e": {
          "model_module": "@jupyter-widgets/controls",
          "model_name": "FloatProgressModel",
          "model_module_version": "1.5.0",
          "state": {
            "_dom_classes": [],
            "_model_module": "@jupyter-widgets/controls",
            "_model_module_version": "1.5.0",
            "_model_name": "FloatProgressModel",
            "_view_count": null,
            "_view_module": "@jupyter-widgets/controls",
            "_view_module_version": "1.5.0",
            "_view_name": "ProgressView",
            "bar_style": "success",
            "description": "",
            "description_tooltip": null,
            "layout": "IPY_MODEL_d82eb7e3adf44062a963723ce9d2bea0",
            "max": 1389353,
            "min": 0,
            "orientation": "horizontal",
            "style": "IPY_MODEL_40fda5181b6b468295d484d35e13cc09",
            "value": 1389353
          }
        },
        "ed8247973bcf448aa922674c6413ccb8": {
          "model_module": "@jupyter-widgets/controls",
          "model_name": "HTMLModel",
          "model_module_version": "1.5.0",
          "state": {
            "_dom_classes": [],
            "_model_module": "@jupyter-widgets/controls",
            "_model_module_version": "1.5.0",
            "_model_name": "HTMLModel",
            "_view_count": null,
            "_view_module": "@jupyter-widgets/controls",
            "_view_module_version": "1.5.0",
            "_view_name": "HTMLView",
            "description": "",
            "description_tooltip": null,
            "layout": "IPY_MODEL_f2a1ccfb78f44f679da17d09317d1d40",
            "placeholder": "​",
            "style": "IPY_MODEL_d4aeafd2d282494d9c4c675f7d57bcac",
            "value": " 1.39M/1.39M [00:00&lt;00:00, 20.6MB/s]"
          }
        },
        "a4ac0c3e53e845bbb7c5116f4df36e5d": {
          "model_module": "@jupyter-widgets/base",
          "model_name": "LayoutModel",
          "model_module_version": "1.2.0",
          "state": {
            "_model_module": "@jupyter-widgets/base",
            "_model_module_version": "1.2.0",
            "_model_name": "LayoutModel",
            "_view_count": null,
            "_view_module": "@jupyter-widgets/base",
            "_view_module_version": "1.2.0",
            "_view_name": "LayoutView",
            "align_content": null,
            "align_items": null,
            "align_self": null,
            "border": null,
            "bottom": null,
            "display": null,
            "flex": null,
            "flex_flow": null,
            "grid_area": null,
            "grid_auto_columns": null,
            "grid_auto_flow": null,
            "grid_auto_rows": null,
            "grid_column": null,
            "grid_gap": null,
            "grid_row": null,
            "grid_template_areas": null,
            "grid_template_columns": null,
            "grid_template_rows": null,
            "height": null,
            "justify_content": null,
            "justify_items": null,
            "left": null,
            "margin": null,
            "max_height": null,
            "max_width": null,
            "min_height": null,
            "min_width": null,
            "object_fit": null,
            "object_position": null,
            "order": null,
            "overflow": null,
            "overflow_x": null,
            "overflow_y": null,
            "padding": null,
            "right": null,
            "top": null,
            "visibility": null,
            "width": null
          }
        },
        "f5ccb9fd007647bdacc7503a327f018d": {
          "model_module": "@jupyter-widgets/base",
          "model_name": "LayoutModel",
          "model_module_version": "1.2.0",
          "state": {
            "_model_module": "@jupyter-widgets/base",
            "_model_module_version": "1.2.0",
            "_model_name": "LayoutModel",
            "_view_count": null,
            "_view_module": "@jupyter-widgets/base",
            "_view_module_version": "1.2.0",
            "_view_name": "LayoutView",
            "align_content": null,
            "align_items": null,
            "align_self": null,
            "border": null,
            "bottom": null,
            "display": null,
            "flex": null,
            "flex_flow": null,
            "grid_area": null,
            "grid_auto_columns": null,
            "grid_auto_flow": null,
            "grid_auto_rows": null,
            "grid_column": null,
            "grid_gap": null,
            "grid_row": null,
            "grid_template_areas": null,
            "grid_template_columns": null,
            "grid_template_rows": null,
            "height": null,
            "justify_content": null,
            "justify_items": null,
            "left": null,
            "margin": null,
            "max_height": null,
            "max_width": null,
            "min_height": null,
            "min_width": null,
            "object_fit": null,
            "object_position": null,
            "order": null,
            "overflow": null,
            "overflow_x": null,
            "overflow_y": null,
            "padding": null,
            "right": null,
            "top": null,
            "visibility": null,
            "width": null
          }
        },
        "34b20a21181b49bda923912369f1ae82": {
          "model_module": "@jupyter-widgets/controls",
          "model_name": "DescriptionStyleModel",
          "model_module_version": "1.5.0",
          "state": {
            "_model_module": "@jupyter-widgets/controls",
            "_model_module_version": "1.5.0",
            "_model_name": "DescriptionStyleModel",
            "_view_count": null,
            "_view_module": "@jupyter-widgets/base",
            "_view_module_version": "1.2.0",
            "_view_name": "StyleView",
            "description_width": ""
          }
        },
        "d82eb7e3adf44062a963723ce9d2bea0": {
          "model_module": "@jupyter-widgets/base",
          "model_name": "LayoutModel",
          "model_module_version": "1.2.0",
          "state": {
            "_model_module": "@jupyter-widgets/base",
            "_model_module_version": "1.2.0",
            "_model_name": "LayoutModel",
            "_view_count": null,
            "_view_module": "@jupyter-widgets/base",
            "_view_module_version": "1.2.0",
            "_view_name": "LayoutView",
            "align_content": null,
            "align_items": null,
            "align_self": null,
            "border": null,
            "bottom": null,
            "display": null,
            "flex": null,
            "flex_flow": null,
            "grid_area": null,
            "grid_auto_columns": null,
            "grid_auto_flow": null,
            "grid_auto_rows": null,
            "grid_column": null,
            "grid_gap": null,
            "grid_row": null,
            "grid_template_areas": null,
            "grid_template_columns": null,
            "grid_template_rows": null,
            "height": null,
            "justify_content": null,
            "justify_items": null,
            "left": null,
            "margin": null,
            "max_height": null,
            "max_width": null,
            "min_height": null,
            "min_width": null,
            "object_fit": null,
            "object_position": null,
            "order": null,
            "overflow": null,
            "overflow_x": null,
            "overflow_y": null,
            "padding": null,
            "right": null,
            "top": null,
            "visibility": null,
            "width": null
          }
        },
        "40fda5181b6b468295d484d35e13cc09": {
          "model_module": "@jupyter-widgets/controls",
          "model_name": "ProgressStyleModel",
          "model_module_version": "1.5.0",
          "state": {
            "_model_module": "@jupyter-widgets/controls",
            "_model_module_version": "1.5.0",
            "_model_name": "ProgressStyleModel",
            "_view_count": null,
            "_view_module": "@jupyter-widgets/base",
            "_view_module_version": "1.2.0",
            "_view_name": "StyleView",
            "bar_color": null,
            "description_width": ""
          }
        },
        "f2a1ccfb78f44f679da17d09317d1d40": {
          "model_module": "@jupyter-widgets/base",
          "model_name": "LayoutModel",
          "model_module_version": "1.2.0",
          "state": {
            "_model_module": "@jupyter-widgets/base",
            "_model_module_version": "1.2.0",
            "_model_name": "LayoutModel",
            "_view_count": null,
            "_view_module": "@jupyter-widgets/base",
            "_view_module_version": "1.2.0",
            "_view_name": "LayoutView",
            "align_content": null,
            "align_items": null,
            "align_self": null,
            "border": null,
            "bottom": null,
            "display": null,
            "flex": null,
            "flex_flow": null,
            "grid_area": null,
            "grid_auto_columns": null,
            "grid_auto_flow": null,
            "grid_auto_rows": null,
            "grid_column": null,
            "grid_gap": null,
            "grid_row": null,
            "grid_template_areas": null,
            "grid_template_columns": null,
            "grid_template_rows": null,
            "height": null,
            "justify_content": null,
            "justify_items": null,
            "left": null,
            "margin": null,
            "max_height": null,
            "max_width": null,
            "min_height": null,
            "min_width": null,
            "object_fit": null,
            "object_position": null,
            "order": null,
            "overflow": null,
            "overflow_x": null,
            "overflow_y": null,
            "padding": null,
            "right": null,
            "top": null,
            "visibility": null,
            "width": null
          }
        },
        "d4aeafd2d282494d9c4c675f7d57bcac": {
          "model_module": "@jupyter-widgets/controls",
          "model_name": "DescriptionStyleModel",
          "model_module_version": "1.5.0",
          "state": {
            "_model_module": "@jupyter-widgets/controls",
            "_model_module_version": "1.5.0",
            "_model_name": "DescriptionStyleModel",
            "_view_count": null,
            "_view_module": "@jupyter-widgets/base",
            "_view_module_version": "1.2.0",
            "_view_name": "StyleView",
            "description_width": ""
          }
        },
        "66cc94babecf46eb88bf46fd7506a2a2": {
          "model_module": "@jupyter-widgets/controls",
          "model_name": "HBoxModel",
          "model_module_version": "1.5.0",
          "state": {
            "_dom_classes": [],
            "_model_module": "@jupyter-widgets/controls",
            "_model_module_version": "1.5.0",
            "_model_name": "HBoxModel",
            "_view_count": null,
            "_view_module": "@jupyter-widgets/controls",
            "_view_module_version": "1.5.0",
            "_view_name": "HBoxView",
            "box_style": "",
            "children": [
              "IPY_MODEL_5f8571215af04342a8971734bff7a4ff",
              "IPY_MODEL_915aed8319f74539aaa3a69f3e6b7e2a",
              "IPY_MODEL_d3d065d63860473697763628fe80b8dd"
            ],
            "layout": "IPY_MODEL_c7e560cfe81343a09c6cbeca1f203d60"
          }
        },
        "5f8571215af04342a8971734bff7a4ff": {
          "model_module": "@jupyter-widgets/controls",
          "model_name": "HTMLModel",
          "model_module_version": "1.5.0",
          "state": {
            "_dom_classes": [],
            "_model_module": "@jupyter-widgets/controls",
            "_model_module_version": "1.5.0",
            "_model_name": "HTMLModel",
            "_view_count": null,
            "_view_module": "@jupyter-widgets/controls",
            "_view_module_version": "1.5.0",
            "_view_name": "HTMLView",
            "description": "",
            "description_tooltip": null,
            "layout": "IPY_MODEL_e584991853fe45a29e5266ae9d69d29a",
            "placeholder": "​",
            "style": "IPY_MODEL_3f81aa9b6671469e8b49b7d7e8eb0f98",
            "value": "Downloading (…)lve/main/config.json: 100%"
          }
        },
        "915aed8319f74539aaa3a69f3e6b7e2a": {
          "model_module": "@jupyter-widgets/controls",
          "model_name": "FloatProgressModel",
          "model_module_version": "1.5.0",
          "state": {
            "_dom_classes": [],
            "_model_module": "@jupyter-widgets/controls",
            "_model_module_version": "1.5.0",
            "_model_name": "FloatProgressModel",
            "_view_count": null,
            "_view_module": "@jupyter-widgets/controls",
            "_view_module_version": "1.5.0",
            "_view_name": "ProgressView",
            "bar_style": "success",
            "description": "",
            "description_tooltip": null,
            "layout": "IPY_MODEL_1a95aead381b47c9a76e2c1cc16dcaff",
            "max": 1208,
            "min": 0,
            "orientation": "horizontal",
            "style": "IPY_MODEL_a4f6a2e1ae204b58a065a5b78a32b05c",
            "value": 1208
          }
        },
        "d3d065d63860473697763628fe80b8dd": {
          "model_module": "@jupyter-widgets/controls",
          "model_name": "HTMLModel",
          "model_module_version": "1.5.0",
          "state": {
            "_dom_classes": [],
            "_model_module": "@jupyter-widgets/controls",
            "_model_module_version": "1.5.0",
            "_model_name": "HTMLModel",
            "_view_count": null,
            "_view_module": "@jupyter-widgets/controls",
            "_view_module_version": "1.5.0",
            "_view_name": "HTMLView",
            "description": "",
            "description_tooltip": null,
            "layout": "IPY_MODEL_2fb36568a4dc4fe4bcad9ed6e30540f7",
            "placeholder": "​",
            "style": "IPY_MODEL_7e677b809dec4c5db15108da9669b170",
            "value": " 1.21k/1.21k [00:00&lt;00:00, 46.9kB/s]"
          }
        },
        "c7e560cfe81343a09c6cbeca1f203d60": {
          "model_module": "@jupyter-widgets/base",
          "model_name": "LayoutModel",
          "model_module_version": "1.2.0",
          "state": {
            "_model_module": "@jupyter-widgets/base",
            "_model_module_version": "1.2.0",
            "_model_name": "LayoutModel",
            "_view_count": null,
            "_view_module": "@jupyter-widgets/base",
            "_view_module_version": "1.2.0",
            "_view_name": "LayoutView",
            "align_content": null,
            "align_items": null,
            "align_self": null,
            "border": null,
            "bottom": null,
            "display": null,
            "flex": null,
            "flex_flow": null,
            "grid_area": null,
            "grid_auto_columns": null,
            "grid_auto_flow": null,
            "grid_auto_rows": null,
            "grid_column": null,
            "grid_gap": null,
            "grid_row": null,
            "grid_template_areas": null,
            "grid_template_columns": null,
            "grid_template_rows": null,
            "height": null,
            "justify_content": null,
            "justify_items": null,
            "left": null,
            "margin": null,
            "max_height": null,
            "max_width": null,
            "min_height": null,
            "min_width": null,
            "object_fit": null,
            "object_position": null,
            "order": null,
            "overflow": null,
            "overflow_x": null,
            "overflow_y": null,
            "padding": null,
            "right": null,
            "top": null,
            "visibility": null,
            "width": null
          }
        },
        "e584991853fe45a29e5266ae9d69d29a": {
          "model_module": "@jupyter-widgets/base",
          "model_name": "LayoutModel",
          "model_module_version": "1.2.0",
          "state": {
            "_model_module": "@jupyter-widgets/base",
            "_model_module_version": "1.2.0",
            "_model_name": "LayoutModel",
            "_view_count": null,
            "_view_module": "@jupyter-widgets/base",
            "_view_module_version": "1.2.0",
            "_view_name": "LayoutView",
            "align_content": null,
            "align_items": null,
            "align_self": null,
            "border": null,
            "bottom": null,
            "display": null,
            "flex": null,
            "flex_flow": null,
            "grid_area": null,
            "grid_auto_columns": null,
            "grid_auto_flow": null,
            "grid_auto_rows": null,
            "grid_column": null,
            "grid_gap": null,
            "grid_row": null,
            "grid_template_areas": null,
            "grid_template_columns": null,
            "grid_template_rows": null,
            "height": null,
            "justify_content": null,
            "justify_items": null,
            "left": null,
            "margin": null,
            "max_height": null,
            "max_width": null,
            "min_height": null,
            "min_width": null,
            "object_fit": null,
            "object_position": null,
            "order": null,
            "overflow": null,
            "overflow_x": null,
            "overflow_y": null,
            "padding": null,
            "right": null,
            "top": null,
            "visibility": null,
            "width": null
          }
        },
        "3f81aa9b6671469e8b49b7d7e8eb0f98": {
          "model_module": "@jupyter-widgets/controls",
          "model_name": "DescriptionStyleModel",
          "model_module_version": "1.5.0",
          "state": {
            "_model_module": "@jupyter-widgets/controls",
            "_model_module_version": "1.5.0",
            "_model_name": "DescriptionStyleModel",
            "_view_count": null,
            "_view_module": "@jupyter-widgets/base",
            "_view_module_version": "1.2.0",
            "_view_name": "StyleView",
            "description_width": ""
          }
        },
        "1a95aead381b47c9a76e2c1cc16dcaff": {
          "model_module": "@jupyter-widgets/base",
          "model_name": "LayoutModel",
          "model_module_version": "1.2.0",
          "state": {
            "_model_module": "@jupyter-widgets/base",
            "_model_module_version": "1.2.0",
            "_model_name": "LayoutModel",
            "_view_count": null,
            "_view_module": "@jupyter-widgets/base",
            "_view_module_version": "1.2.0",
            "_view_name": "LayoutView",
            "align_content": null,
            "align_items": null,
            "align_self": null,
            "border": null,
            "bottom": null,
            "display": null,
            "flex": null,
            "flex_flow": null,
            "grid_area": null,
            "grid_auto_columns": null,
            "grid_auto_flow": null,
            "grid_auto_rows": null,
            "grid_column": null,
            "grid_gap": null,
            "grid_row": null,
            "grid_template_areas": null,
            "grid_template_columns": null,
            "grid_template_rows": null,
            "height": null,
            "justify_content": null,
            "justify_items": null,
            "left": null,
            "margin": null,
            "max_height": null,
            "max_width": null,
            "min_height": null,
            "min_width": null,
            "object_fit": null,
            "object_position": null,
            "order": null,
            "overflow": null,
            "overflow_x": null,
            "overflow_y": null,
            "padding": null,
            "right": null,
            "top": null,
            "visibility": null,
            "width": null
          }
        },
        "a4f6a2e1ae204b58a065a5b78a32b05c": {
          "model_module": "@jupyter-widgets/controls",
          "model_name": "ProgressStyleModel",
          "model_module_version": "1.5.0",
          "state": {
            "_model_module": "@jupyter-widgets/controls",
            "_model_module_version": "1.5.0",
            "_model_name": "ProgressStyleModel",
            "_view_count": null,
            "_view_module": "@jupyter-widgets/base",
            "_view_module_version": "1.2.0",
            "_view_name": "StyleView",
            "bar_color": null,
            "description_width": ""
          }
        },
        "2fb36568a4dc4fe4bcad9ed6e30540f7": {
          "model_module": "@jupyter-widgets/base",
          "model_name": "LayoutModel",
          "model_module_version": "1.2.0",
          "state": {
            "_model_module": "@jupyter-widgets/base",
            "_model_module_version": "1.2.0",
            "_model_name": "LayoutModel",
            "_view_count": null,
            "_view_module": "@jupyter-widgets/base",
            "_view_module_version": "1.2.0",
            "_view_name": "LayoutView",
            "align_content": null,
            "align_items": null,
            "align_self": null,
            "border": null,
            "bottom": null,
            "display": null,
            "flex": null,
            "flex_flow": null,
            "grid_area": null,
            "grid_auto_columns": null,
            "grid_auto_flow": null,
            "grid_auto_rows": null,
            "grid_column": null,
            "grid_gap": null,
            "grid_row": null,
            "grid_template_areas": null,
            "grid_template_columns": null,
            "grid_template_rows": null,
            "height": null,
            "justify_content": null,
            "justify_items": null,
            "left": null,
            "margin": null,
            "max_height": null,
            "max_width": null,
            "min_height": null,
            "min_width": null,
            "object_fit": null,
            "object_position": null,
            "order": null,
            "overflow": null,
            "overflow_x": null,
            "overflow_y": null,
            "padding": null,
            "right": null,
            "top": null,
            "visibility": null,
            "width": null
          }
        },
        "7e677b809dec4c5db15108da9669b170": {
          "model_module": "@jupyter-widgets/controls",
          "model_name": "DescriptionStyleModel",
          "model_module_version": "1.5.0",
          "state": {
            "_model_module": "@jupyter-widgets/controls",
            "_model_module_version": "1.5.0",
            "_model_name": "DescriptionStyleModel",
            "_view_count": null,
            "_view_module": "@jupyter-widgets/base",
            "_view_module_version": "1.2.0",
            "_view_name": "StyleView",
            "description_width": ""
          }
        },
        "e113449bbbf64cbc98a7d2c91aa250ce": {
          "model_module": "@jupyter-widgets/controls",
          "model_name": "HBoxModel",
          "model_module_version": "1.5.0",
          "state": {
            "_dom_classes": [],
            "_model_module": "@jupyter-widgets/controls",
            "_model_module_version": "1.5.0",
            "_model_name": "HBoxModel",
            "_view_count": null,
            "_view_module": "@jupyter-widgets/controls",
            "_view_module_version": "1.5.0",
            "_view_name": "HBoxView",
            "box_style": "",
            "children": [
              "IPY_MODEL_948be247f3ab464c9017b133e10ae48f",
              "IPY_MODEL_0e5a94372ee74914a14a13e4d1380b30",
              "IPY_MODEL_137c94ef686a4f39a5e4b92afc121d3c"
            ],
            "layout": "IPY_MODEL_d868563271e24e75b11d45820a777a8f"
          }
        },
        "948be247f3ab464c9017b133e10ae48f": {
          "model_module": "@jupyter-widgets/controls",
          "model_name": "HTMLModel",
          "model_module_version": "1.5.0",
          "state": {
            "_dom_classes": [],
            "_model_module": "@jupyter-widgets/controls",
            "_model_module_version": "1.5.0",
            "_model_name": "HTMLModel",
            "_view_count": null,
            "_view_module": "@jupyter-widgets/controls",
            "_view_module_version": "1.5.0",
            "_view_name": "HTMLView",
            "description": "",
            "description_tooltip": null,
            "layout": "IPY_MODEL_770ef34a60b84438a3b1a97016912351",
            "placeholder": "​",
            "style": "IPY_MODEL_dc4adcf080644b69a7391f529f787e47",
            "value": "Downloading model.safetensors: 100%"
          }
        },
        "0e5a94372ee74914a14a13e4d1380b30": {
          "model_module": "@jupyter-widgets/controls",
          "model_name": "FloatProgressModel",
          "model_module_version": "1.5.0",
          "state": {
            "_dom_classes": [],
            "_model_module": "@jupyter-widgets/controls",
            "_model_module_version": "1.5.0",
            "_model_name": "FloatProgressModel",
            "_view_count": null,
            "_view_module": "@jupyter-widgets/controls",
            "_view_module_version": "1.5.0",
            "_view_name": "ProgressView",
            "bar_style": "success",
            "description": "",
            "description_tooltip": null,
            "layout": "IPY_MODEL_b53c31d21f6940a18a1d994b10af1831",
            "max": 891646390,
            "min": 0,
            "orientation": "horizontal",
            "style": "IPY_MODEL_62d90cfaa89f43e8a327461c6db6d0ca",
            "value": 891646390
          }
        },
        "137c94ef686a4f39a5e4b92afc121d3c": {
          "model_module": "@jupyter-widgets/controls",
          "model_name": "HTMLModel",
          "model_module_version": "1.5.0",
          "state": {
            "_dom_classes": [],
            "_model_module": "@jupyter-widgets/controls",
            "_model_module_version": "1.5.0",
            "_model_name": "HTMLModel",
            "_view_count": null,
            "_view_module": "@jupyter-widgets/controls",
            "_view_module_version": "1.5.0",
            "_view_name": "HTMLView",
            "description": "",
            "description_tooltip": null,
            "layout": "IPY_MODEL_5cb30c798f99460b9cb463d1ff524dc7",
            "placeholder": "​",
            "style": "IPY_MODEL_d9d49119e6984a5281ca1416bc0f8dbf",
            "value": " 892M/892M [00:10&lt;00:00, 95.0MB/s]"
          }
        },
        "d868563271e24e75b11d45820a777a8f": {
          "model_module": "@jupyter-widgets/base",
          "model_name": "LayoutModel",
          "model_module_version": "1.2.0",
          "state": {
            "_model_module": "@jupyter-widgets/base",
            "_model_module_version": "1.2.0",
            "_model_name": "LayoutModel",
            "_view_count": null,
            "_view_module": "@jupyter-widgets/base",
            "_view_module_version": "1.2.0",
            "_view_name": "LayoutView",
            "align_content": null,
            "align_items": null,
            "align_self": null,
            "border": null,
            "bottom": null,
            "display": null,
            "flex": null,
            "flex_flow": null,
            "grid_area": null,
            "grid_auto_columns": null,
            "grid_auto_flow": null,
            "grid_auto_rows": null,
            "grid_column": null,
            "grid_gap": null,
            "grid_row": null,
            "grid_template_areas": null,
            "grid_template_columns": null,
            "grid_template_rows": null,
            "height": null,
            "justify_content": null,
            "justify_items": null,
            "left": null,
            "margin": null,
            "max_height": null,
            "max_width": null,
            "min_height": null,
            "min_width": null,
            "object_fit": null,
            "object_position": null,
            "order": null,
            "overflow": null,
            "overflow_x": null,
            "overflow_y": null,
            "padding": null,
            "right": null,
            "top": null,
            "visibility": null,
            "width": null
          }
        },
        "770ef34a60b84438a3b1a97016912351": {
          "model_module": "@jupyter-widgets/base",
          "model_name": "LayoutModel",
          "model_module_version": "1.2.0",
          "state": {
            "_model_module": "@jupyter-widgets/base",
            "_model_module_version": "1.2.0",
            "_model_name": "LayoutModel",
            "_view_count": null,
            "_view_module": "@jupyter-widgets/base",
            "_view_module_version": "1.2.0",
            "_view_name": "LayoutView",
            "align_content": null,
            "align_items": null,
            "align_self": null,
            "border": null,
            "bottom": null,
            "display": null,
            "flex": null,
            "flex_flow": null,
            "grid_area": null,
            "grid_auto_columns": null,
            "grid_auto_flow": null,
            "grid_auto_rows": null,
            "grid_column": null,
            "grid_gap": null,
            "grid_row": null,
            "grid_template_areas": null,
            "grid_template_columns": null,
            "grid_template_rows": null,
            "height": null,
            "justify_content": null,
            "justify_items": null,
            "left": null,
            "margin": null,
            "max_height": null,
            "max_width": null,
            "min_height": null,
            "min_width": null,
            "object_fit": null,
            "object_position": null,
            "order": null,
            "overflow": null,
            "overflow_x": null,
            "overflow_y": null,
            "padding": null,
            "right": null,
            "top": null,
            "visibility": null,
            "width": null
          }
        },
        "dc4adcf080644b69a7391f529f787e47": {
          "model_module": "@jupyter-widgets/controls",
          "model_name": "DescriptionStyleModel",
          "model_module_version": "1.5.0",
          "state": {
            "_model_module": "@jupyter-widgets/controls",
            "_model_module_version": "1.5.0",
            "_model_name": "DescriptionStyleModel",
            "_view_count": null,
            "_view_module": "@jupyter-widgets/base",
            "_view_module_version": "1.2.0",
            "_view_name": "StyleView",
            "description_width": ""
          }
        },
        "b53c31d21f6940a18a1d994b10af1831": {
          "model_module": "@jupyter-widgets/base",
          "model_name": "LayoutModel",
          "model_module_version": "1.2.0",
          "state": {
            "_model_module": "@jupyter-widgets/base",
            "_model_module_version": "1.2.0",
            "_model_name": "LayoutModel",
            "_view_count": null,
            "_view_module": "@jupyter-widgets/base",
            "_view_module_version": "1.2.0",
            "_view_name": "LayoutView",
            "align_content": null,
            "align_items": null,
            "align_self": null,
            "border": null,
            "bottom": null,
            "display": null,
            "flex": null,
            "flex_flow": null,
            "grid_area": null,
            "grid_auto_columns": null,
            "grid_auto_flow": null,
            "grid_auto_rows": null,
            "grid_column": null,
            "grid_gap": null,
            "grid_row": null,
            "grid_template_areas": null,
            "grid_template_columns": null,
            "grid_template_rows": null,
            "height": null,
            "justify_content": null,
            "justify_items": null,
            "left": null,
            "margin": null,
            "max_height": null,
            "max_width": null,
            "min_height": null,
            "min_width": null,
            "object_fit": null,
            "object_position": null,
            "order": null,
            "overflow": null,
            "overflow_x": null,
            "overflow_y": null,
            "padding": null,
            "right": null,
            "top": null,
            "visibility": null,
            "width": null
          }
        },
        "62d90cfaa89f43e8a327461c6db6d0ca": {
          "model_module": "@jupyter-widgets/controls",
          "model_name": "ProgressStyleModel",
          "model_module_version": "1.5.0",
          "state": {
            "_model_module": "@jupyter-widgets/controls",
            "_model_module_version": "1.5.0",
            "_model_name": "ProgressStyleModel",
            "_view_count": null,
            "_view_module": "@jupyter-widgets/base",
            "_view_module_version": "1.2.0",
            "_view_name": "StyleView",
            "bar_color": null,
            "description_width": ""
          }
        },
        "5cb30c798f99460b9cb463d1ff524dc7": {
          "model_module": "@jupyter-widgets/base",
          "model_name": "LayoutModel",
          "model_module_version": "1.2.0",
          "state": {
            "_model_module": "@jupyter-widgets/base",
            "_model_module_version": "1.2.0",
            "_model_name": "LayoutModel",
            "_view_count": null,
            "_view_module": "@jupyter-widgets/base",
            "_view_module_version": "1.2.0",
            "_view_name": "LayoutView",
            "align_content": null,
            "align_items": null,
            "align_self": null,
            "border": null,
            "bottom": null,
            "display": null,
            "flex": null,
            "flex_flow": null,
            "grid_area": null,
            "grid_auto_columns": null,
            "grid_auto_flow": null,
            "grid_auto_rows": null,
            "grid_column": null,
            "grid_gap": null,
            "grid_row": null,
            "grid_template_areas": null,
            "grid_template_columns": null,
            "grid_template_rows": null,
            "height": null,
            "justify_content": null,
            "justify_items": null,
            "left": null,
            "margin": null,
            "max_height": null,
            "max_width": null,
            "min_height": null,
            "min_width": null,
            "object_fit": null,
            "object_position": null,
            "order": null,
            "overflow": null,
            "overflow_x": null,
            "overflow_y": null,
            "padding": null,
            "right": null,
            "top": null,
            "visibility": null,
            "width": null
          }
        },
        "d9d49119e6984a5281ca1416bc0f8dbf": {
          "model_module": "@jupyter-widgets/controls",
          "model_name": "DescriptionStyleModel",
          "model_module_version": "1.5.0",
          "state": {
            "_model_module": "@jupyter-widgets/controls",
            "_model_module_version": "1.5.0",
            "_model_name": "DescriptionStyleModel",
            "_view_count": null,
            "_view_module": "@jupyter-widgets/base",
            "_view_module_version": "1.2.0",
            "_view_name": "StyleView",
            "description_width": ""
          }
        },
        "21ad8033f16840d49a1d50b75d4bdf44": {
          "model_module": "@jupyter-widgets/controls",
          "model_name": "HBoxModel",
          "model_module_version": "1.5.0",
          "state": {
            "_dom_classes": [],
            "_model_module": "@jupyter-widgets/controls",
            "_model_module_version": "1.5.0",
            "_model_name": "HBoxModel",
            "_view_count": null,
            "_view_module": "@jupyter-widgets/controls",
            "_view_module_version": "1.5.0",
            "_view_name": "HBoxView",
            "box_style": "",
            "children": [
              "IPY_MODEL_372ec7fdf19e49abb67d9c83484f4aed",
              "IPY_MODEL_8ac66b043de841a68c64ec25ae8d909f",
              "IPY_MODEL_45b0b12f8f0c4a68a76abff9fa184894"
            ],
            "layout": "IPY_MODEL_b28f41a7c915430da25954c71cc7641c"
          }
        },
        "372ec7fdf19e49abb67d9c83484f4aed": {
          "model_module": "@jupyter-widgets/controls",
          "model_name": "HTMLModel",
          "model_module_version": "1.5.0",
          "state": {
            "_dom_classes": [],
            "_model_module": "@jupyter-widgets/controls",
            "_model_module_version": "1.5.0",
            "_model_name": "HTMLModel",
            "_view_count": null,
            "_view_module": "@jupyter-widgets/controls",
            "_view_module_version": "1.5.0",
            "_view_name": "HTMLView",
            "description": "",
            "description_tooltip": null,
            "layout": "IPY_MODEL_e6a5a28b81b3474a9b3348f0348e3bca",
            "placeholder": "​",
            "style": "IPY_MODEL_20f99beef7c44fb8b8a46541e62f8532",
            "value": "Downloading (…)neration_config.json: 100%"
          }
        },
        "8ac66b043de841a68c64ec25ae8d909f": {
          "model_module": "@jupyter-widgets/controls",
          "model_name": "FloatProgressModel",
          "model_module_version": "1.5.0",
          "state": {
            "_dom_classes": [],
            "_model_module": "@jupyter-widgets/controls",
            "_model_module_version": "1.5.0",
            "_model_name": "FloatProgressModel",
            "_view_count": null,
            "_view_module": "@jupyter-widgets/controls",
            "_view_module_version": "1.5.0",
            "_view_name": "ProgressView",
            "bar_style": "success",
            "description": "",
            "description_tooltip": null,
            "layout": "IPY_MODEL_c8d75fa0caa84fe5b873d867c4e601d1",
            "max": 147,
            "min": 0,
            "orientation": "horizontal",
            "style": "IPY_MODEL_d1b8dad5ea2746ae8f61ad97cc8fb914",
            "value": 147
          }
        },
        "45b0b12f8f0c4a68a76abff9fa184894": {
          "model_module": "@jupyter-widgets/controls",
          "model_name": "HTMLModel",
          "model_module_version": "1.5.0",
          "state": {
            "_dom_classes": [],
            "_model_module": "@jupyter-widgets/controls",
            "_model_module_version": "1.5.0",
            "_model_name": "HTMLModel",
            "_view_count": null,
            "_view_module": "@jupyter-widgets/controls",
            "_view_module_version": "1.5.0",
            "_view_name": "HTMLView",
            "description": "",
            "description_tooltip": null,
            "layout": "IPY_MODEL_3f07714f8c4b419bb40450f118dbc8aa",
            "placeholder": "​",
            "style": "IPY_MODEL_8e227607e5ab401ca63a87c9bc62a309",
            "value": " 147/147 [00:00&lt;00:00, 7.91kB/s]"
          }
        },
        "b28f41a7c915430da25954c71cc7641c": {
          "model_module": "@jupyter-widgets/base",
          "model_name": "LayoutModel",
          "model_module_version": "1.2.0",
          "state": {
            "_model_module": "@jupyter-widgets/base",
            "_model_module_version": "1.2.0",
            "_model_name": "LayoutModel",
            "_view_count": null,
            "_view_module": "@jupyter-widgets/base",
            "_view_module_version": "1.2.0",
            "_view_name": "LayoutView",
            "align_content": null,
            "align_items": null,
            "align_self": null,
            "border": null,
            "bottom": null,
            "display": null,
            "flex": null,
            "flex_flow": null,
            "grid_area": null,
            "grid_auto_columns": null,
            "grid_auto_flow": null,
            "grid_auto_rows": null,
            "grid_column": null,
            "grid_gap": null,
            "grid_row": null,
            "grid_template_areas": null,
            "grid_template_columns": null,
            "grid_template_rows": null,
            "height": null,
            "justify_content": null,
            "justify_items": null,
            "left": null,
            "margin": null,
            "max_height": null,
            "max_width": null,
            "min_height": null,
            "min_width": null,
            "object_fit": null,
            "object_position": null,
            "order": null,
            "overflow": null,
            "overflow_x": null,
            "overflow_y": null,
            "padding": null,
            "right": null,
            "top": null,
            "visibility": null,
            "width": null
          }
        },
        "e6a5a28b81b3474a9b3348f0348e3bca": {
          "model_module": "@jupyter-widgets/base",
          "model_name": "LayoutModel",
          "model_module_version": "1.2.0",
          "state": {
            "_model_module": "@jupyter-widgets/base",
            "_model_module_version": "1.2.0",
            "_model_name": "LayoutModel",
            "_view_count": null,
            "_view_module": "@jupyter-widgets/base",
            "_view_module_version": "1.2.0",
            "_view_name": "LayoutView",
            "align_content": null,
            "align_items": null,
            "align_self": null,
            "border": null,
            "bottom": null,
            "display": null,
            "flex": null,
            "flex_flow": null,
            "grid_area": null,
            "grid_auto_columns": null,
            "grid_auto_flow": null,
            "grid_auto_rows": null,
            "grid_column": null,
            "grid_gap": null,
            "grid_row": null,
            "grid_template_areas": null,
            "grid_template_columns": null,
            "grid_template_rows": null,
            "height": null,
            "justify_content": null,
            "justify_items": null,
            "left": null,
            "margin": null,
            "max_height": null,
            "max_width": null,
            "min_height": null,
            "min_width": null,
            "object_fit": null,
            "object_position": null,
            "order": null,
            "overflow": null,
            "overflow_x": null,
            "overflow_y": null,
            "padding": null,
            "right": null,
            "top": null,
            "visibility": null,
            "width": null
          }
        },
        "20f99beef7c44fb8b8a46541e62f8532": {
          "model_module": "@jupyter-widgets/controls",
          "model_name": "DescriptionStyleModel",
          "model_module_version": "1.5.0",
          "state": {
            "_model_module": "@jupyter-widgets/controls",
            "_model_module_version": "1.5.0",
            "_model_name": "DescriptionStyleModel",
            "_view_count": null,
            "_view_module": "@jupyter-widgets/base",
            "_view_module_version": "1.2.0",
            "_view_name": "StyleView",
            "description_width": ""
          }
        },
        "c8d75fa0caa84fe5b873d867c4e601d1": {
          "model_module": "@jupyter-widgets/base",
          "model_name": "LayoutModel",
          "model_module_version": "1.2.0",
          "state": {
            "_model_module": "@jupyter-widgets/base",
            "_model_module_version": "1.2.0",
            "_model_name": "LayoutModel",
            "_view_count": null,
            "_view_module": "@jupyter-widgets/base",
            "_view_module_version": "1.2.0",
            "_view_name": "LayoutView",
            "align_content": null,
            "align_items": null,
            "align_self": null,
            "border": null,
            "bottom": null,
            "display": null,
            "flex": null,
            "flex_flow": null,
            "grid_area": null,
            "grid_auto_columns": null,
            "grid_auto_flow": null,
            "grid_auto_rows": null,
            "grid_column": null,
            "grid_gap": null,
            "grid_row": null,
            "grid_template_areas": null,
            "grid_template_columns": null,
            "grid_template_rows": null,
            "height": null,
            "justify_content": null,
            "justify_items": null,
            "left": null,
            "margin": null,
            "max_height": null,
            "max_width": null,
            "min_height": null,
            "min_width": null,
            "object_fit": null,
            "object_position": null,
            "order": null,
            "overflow": null,
            "overflow_x": null,
            "overflow_y": null,
            "padding": null,
            "right": null,
            "top": null,
            "visibility": null,
            "width": null
          }
        },
        "d1b8dad5ea2746ae8f61ad97cc8fb914": {
          "model_module": "@jupyter-widgets/controls",
          "model_name": "ProgressStyleModel",
          "model_module_version": "1.5.0",
          "state": {
            "_model_module": "@jupyter-widgets/controls",
            "_model_module_version": "1.5.0",
            "_model_name": "ProgressStyleModel",
            "_view_count": null,
            "_view_module": "@jupyter-widgets/base",
            "_view_module_version": "1.2.0",
            "_view_name": "StyleView",
            "bar_color": null,
            "description_width": ""
          }
        },
        "3f07714f8c4b419bb40450f118dbc8aa": {
          "model_module": "@jupyter-widgets/base",
          "model_name": "LayoutModel",
          "model_module_version": "1.2.0",
          "state": {
            "_model_module": "@jupyter-widgets/base",
            "_model_module_version": "1.2.0",
            "_model_name": "LayoutModel",
            "_view_count": null,
            "_view_module": "@jupyter-widgets/base",
            "_view_module_version": "1.2.0",
            "_view_name": "LayoutView",
            "align_content": null,
            "align_items": null,
            "align_self": null,
            "border": null,
            "bottom": null,
            "display": null,
            "flex": null,
            "flex_flow": null,
            "grid_area": null,
            "grid_auto_columns": null,
            "grid_auto_flow": null,
            "grid_auto_rows": null,
            "grid_column": null,
            "grid_gap": null,
            "grid_row": null,
            "grid_template_areas": null,
            "grid_template_columns": null,
            "grid_template_rows": null,
            "height": null,
            "justify_content": null,
            "justify_items": null,
            "left": null,
            "margin": null,
            "max_height": null,
            "max_width": null,
            "min_height": null,
            "min_width": null,
            "object_fit": null,
            "object_position": null,
            "order": null,
            "overflow": null,
            "overflow_x": null,
            "overflow_y": null,
            "padding": null,
            "right": null,
            "top": null,
            "visibility": null,
            "width": null
          }
        },
        "8e227607e5ab401ca63a87c9bc62a309": {
          "model_module": "@jupyter-widgets/controls",
          "model_name": "DescriptionStyleModel",
          "model_module_version": "1.5.0",
          "state": {
            "_model_module": "@jupyter-widgets/controls",
            "_model_module_version": "1.5.0",
            "_model_name": "DescriptionStyleModel",
            "_view_count": null,
            "_view_module": "@jupyter-widgets/base",
            "_view_module_version": "1.2.0",
            "_view_name": "StyleView",
            "description_width": ""
          }
        },
        "5b630a3c8c94494e96266209cab9a0f2": {
          "model_module": "@jupyter-widgets/controls",
          "model_name": "HBoxModel",
          "model_module_version": "1.5.0",
          "state": {
            "_dom_classes": [],
            "_model_module": "@jupyter-widgets/controls",
            "_model_module_version": "1.5.0",
            "_model_name": "HBoxModel",
            "_view_count": null,
            "_view_module": "@jupyter-widgets/controls",
            "_view_module_version": "1.5.0",
            "_view_name": "HBoxView",
            "box_style": "",
            "children": [
              "IPY_MODEL_1482ae4955d44cceacda9ba9fd689904",
              "IPY_MODEL_97595045c16944118de435591b8f9361",
              "IPY_MODEL_7ffa1dd2e2d141bd8002afb3997350fe"
            ],
            "layout": "IPY_MODEL_0f3b5de1c5d9405ea289fac89cdf2be0"
          }
        },
        "1482ae4955d44cceacda9ba9fd689904": {
          "model_module": "@jupyter-widgets/controls",
          "model_name": "HTMLModel",
          "model_module_version": "1.5.0",
          "state": {
            "_dom_classes": [],
            "_model_module": "@jupyter-widgets/controls",
            "_model_module_version": "1.5.0",
            "_model_name": "HTMLModel",
            "_view_count": null,
            "_view_module": "@jupyter-widgets/controls",
            "_view_module_version": "1.5.0",
            "_view_name": "HTMLView",
            "description": "",
            "description_tooltip": null,
            "layout": "IPY_MODEL_3f96d491b9b642e09ce202b2d760d81f",
            "placeholder": "​",
            "style": "IPY_MODEL_b79254fae7fb4eee8df7419cb342f6e4",
            "value": "Downloading data files: 100%"
          }
        },
        "97595045c16944118de435591b8f9361": {
          "model_module": "@jupyter-widgets/controls",
          "model_name": "FloatProgressModel",
          "model_module_version": "1.5.0",
          "state": {
            "_dom_classes": [],
            "_model_module": "@jupyter-widgets/controls",
            "_model_module_version": "1.5.0",
            "_model_name": "FloatProgressModel",
            "_view_count": null,
            "_view_module": "@jupyter-widgets/controls",
            "_view_module_version": "1.5.0",
            "_view_name": "ProgressView",
            "bar_style": "success",
            "description": "",
            "description_tooltip": null,
            "layout": "IPY_MODEL_3920f04633b54f41a79f6b142028994a",
            "max": 1,
            "min": 0,
            "orientation": "horizontal",
            "style": "IPY_MODEL_c1651dc62eab4d3e994ce11b32d5fe52",
            "value": 1
          }
        },
        "7ffa1dd2e2d141bd8002afb3997350fe": {
          "model_module": "@jupyter-widgets/controls",
          "model_name": "HTMLModel",
          "model_module_version": "1.5.0",
          "state": {
            "_dom_classes": [],
            "_model_module": "@jupyter-widgets/controls",
            "_model_module_version": "1.5.0",
            "_model_name": "HTMLModel",
            "_view_count": null,
            "_view_module": "@jupyter-widgets/controls",
            "_view_module_version": "1.5.0",
            "_view_name": "HTMLView",
            "description": "",
            "description_tooltip": null,
            "layout": "IPY_MODEL_84d78bc43b884558a630ada4c5649596",
            "placeholder": "​",
            "style": "IPY_MODEL_ac6339f84dab4244b2cb0d5e01a899d7",
            "value": " 1/1 [00:00&lt;00:00, 64.54it/s]"
          }
        },
        "0f3b5de1c5d9405ea289fac89cdf2be0": {
          "model_module": "@jupyter-widgets/base",
          "model_name": "LayoutModel",
          "model_module_version": "1.2.0",
          "state": {
            "_model_module": "@jupyter-widgets/base",
            "_model_module_version": "1.2.0",
            "_model_name": "LayoutModel",
            "_view_count": null,
            "_view_module": "@jupyter-widgets/base",
            "_view_module_version": "1.2.0",
            "_view_name": "LayoutView",
            "align_content": null,
            "align_items": null,
            "align_self": null,
            "border": null,
            "bottom": null,
            "display": null,
            "flex": null,
            "flex_flow": null,
            "grid_area": null,
            "grid_auto_columns": null,
            "grid_auto_flow": null,
            "grid_auto_rows": null,
            "grid_column": null,
            "grid_gap": null,
            "grid_row": null,
            "grid_template_areas": null,
            "grid_template_columns": null,
            "grid_template_rows": null,
            "height": null,
            "justify_content": null,
            "justify_items": null,
            "left": null,
            "margin": null,
            "max_height": null,
            "max_width": null,
            "min_height": null,
            "min_width": null,
            "object_fit": null,
            "object_position": null,
            "order": null,
            "overflow": null,
            "overflow_x": null,
            "overflow_y": null,
            "padding": null,
            "right": null,
            "top": null,
            "visibility": null,
            "width": null
          }
        },
        "3f96d491b9b642e09ce202b2d760d81f": {
          "model_module": "@jupyter-widgets/base",
          "model_name": "LayoutModel",
          "model_module_version": "1.2.0",
          "state": {
            "_model_module": "@jupyter-widgets/base",
            "_model_module_version": "1.2.0",
            "_model_name": "LayoutModel",
            "_view_count": null,
            "_view_module": "@jupyter-widgets/base",
            "_view_module_version": "1.2.0",
            "_view_name": "LayoutView",
            "align_content": null,
            "align_items": null,
            "align_self": null,
            "border": null,
            "bottom": null,
            "display": null,
            "flex": null,
            "flex_flow": null,
            "grid_area": null,
            "grid_auto_columns": null,
            "grid_auto_flow": null,
            "grid_auto_rows": null,
            "grid_column": null,
            "grid_gap": null,
            "grid_row": null,
            "grid_template_areas": null,
            "grid_template_columns": null,
            "grid_template_rows": null,
            "height": null,
            "justify_content": null,
            "justify_items": null,
            "left": null,
            "margin": null,
            "max_height": null,
            "max_width": null,
            "min_height": null,
            "min_width": null,
            "object_fit": null,
            "object_position": null,
            "order": null,
            "overflow": null,
            "overflow_x": null,
            "overflow_y": null,
            "padding": null,
            "right": null,
            "top": null,
            "visibility": null,
            "width": null
          }
        },
        "b79254fae7fb4eee8df7419cb342f6e4": {
          "model_module": "@jupyter-widgets/controls",
          "model_name": "DescriptionStyleModel",
          "model_module_version": "1.5.0",
          "state": {
            "_model_module": "@jupyter-widgets/controls",
            "_model_module_version": "1.5.0",
            "_model_name": "DescriptionStyleModel",
            "_view_count": null,
            "_view_module": "@jupyter-widgets/base",
            "_view_module_version": "1.2.0",
            "_view_name": "StyleView",
            "description_width": ""
          }
        },
        "3920f04633b54f41a79f6b142028994a": {
          "model_module": "@jupyter-widgets/base",
          "model_name": "LayoutModel",
          "model_module_version": "1.2.0",
          "state": {
            "_model_module": "@jupyter-widgets/base",
            "_model_module_version": "1.2.0",
            "_model_name": "LayoutModel",
            "_view_count": null,
            "_view_module": "@jupyter-widgets/base",
            "_view_module_version": "1.2.0",
            "_view_name": "LayoutView",
            "align_content": null,
            "align_items": null,
            "align_self": null,
            "border": null,
            "bottom": null,
            "display": null,
            "flex": null,
            "flex_flow": null,
            "grid_area": null,
            "grid_auto_columns": null,
            "grid_auto_flow": null,
            "grid_auto_rows": null,
            "grid_column": null,
            "grid_gap": null,
            "grid_row": null,
            "grid_template_areas": null,
            "grid_template_columns": null,
            "grid_template_rows": null,
            "height": null,
            "justify_content": null,
            "justify_items": null,
            "left": null,
            "margin": null,
            "max_height": null,
            "max_width": null,
            "min_height": null,
            "min_width": null,
            "object_fit": null,
            "object_position": null,
            "order": null,
            "overflow": null,
            "overflow_x": null,
            "overflow_y": null,
            "padding": null,
            "right": null,
            "top": null,
            "visibility": null,
            "width": null
          }
        },
        "c1651dc62eab4d3e994ce11b32d5fe52": {
          "model_module": "@jupyter-widgets/controls",
          "model_name": "ProgressStyleModel",
          "model_module_version": "1.5.0",
          "state": {
            "_model_module": "@jupyter-widgets/controls",
            "_model_module_version": "1.5.0",
            "_model_name": "ProgressStyleModel",
            "_view_count": null,
            "_view_module": "@jupyter-widgets/base",
            "_view_module_version": "1.2.0",
            "_view_name": "StyleView",
            "bar_color": null,
            "description_width": ""
          }
        },
        "84d78bc43b884558a630ada4c5649596": {
          "model_module": "@jupyter-widgets/base",
          "model_name": "LayoutModel",
          "model_module_version": "1.2.0",
          "state": {
            "_model_module": "@jupyter-widgets/base",
            "_model_module_version": "1.2.0",
            "_model_name": "LayoutModel",
            "_view_count": null,
            "_view_module": "@jupyter-widgets/base",
            "_view_module_version": "1.2.0",
            "_view_name": "LayoutView",
            "align_content": null,
            "align_items": null,
            "align_self": null,
            "border": null,
            "bottom": null,
            "display": null,
            "flex": null,
            "flex_flow": null,
            "grid_area": null,
            "grid_auto_columns": null,
            "grid_auto_flow": null,
            "grid_auto_rows": null,
            "grid_column": null,
            "grid_gap": null,
            "grid_row": null,
            "grid_template_areas": null,
            "grid_template_columns": null,
            "grid_template_rows": null,
            "height": null,
            "justify_content": null,
            "justify_items": null,
            "left": null,
            "margin": null,
            "max_height": null,
            "max_width": null,
            "min_height": null,
            "min_width": null,
            "object_fit": null,
            "object_position": null,
            "order": null,
            "overflow": null,
            "overflow_x": null,
            "overflow_y": null,
            "padding": null,
            "right": null,
            "top": null,
            "visibility": null,
            "width": null
          }
        },
        "ac6339f84dab4244b2cb0d5e01a899d7": {
          "model_module": "@jupyter-widgets/controls",
          "model_name": "DescriptionStyleModel",
          "model_module_version": "1.5.0",
          "state": {
            "_model_module": "@jupyter-widgets/controls",
            "_model_module_version": "1.5.0",
            "_model_name": "DescriptionStyleModel",
            "_view_count": null,
            "_view_module": "@jupyter-widgets/base",
            "_view_module_version": "1.2.0",
            "_view_name": "StyleView",
            "description_width": ""
          }
        },
        "07d5a992c9644a088c3492672af440b3": {
          "model_module": "@jupyter-widgets/controls",
          "model_name": "HBoxModel",
          "model_module_version": "1.5.0",
          "state": {
            "_dom_classes": [],
            "_model_module": "@jupyter-widgets/controls",
            "_model_module_version": "1.5.0",
            "_model_name": "HBoxModel",
            "_view_count": null,
            "_view_module": "@jupyter-widgets/controls",
            "_view_module_version": "1.5.0",
            "_view_name": "HBoxView",
            "box_style": "",
            "children": [
              "IPY_MODEL_b524fb62379f4f73a8cfdc7930f933dd",
              "IPY_MODEL_056dfed9e3a14353b573c785984b4570",
              "IPY_MODEL_dc6ea50a51c440a89a1ed65dd42ef6f0"
            ],
            "layout": "IPY_MODEL_3d15b3d993c14bc4bc8fd8faed1012a1"
          }
        },
        "b524fb62379f4f73a8cfdc7930f933dd": {
          "model_module": "@jupyter-widgets/controls",
          "model_name": "HTMLModel",
          "model_module_version": "1.5.0",
          "state": {
            "_dom_classes": [],
            "_model_module": "@jupyter-widgets/controls",
            "_model_module_version": "1.5.0",
            "_model_name": "HTMLModel",
            "_view_count": null,
            "_view_module": "@jupyter-widgets/controls",
            "_view_module_version": "1.5.0",
            "_view_name": "HTMLView",
            "description": "",
            "description_tooltip": null,
            "layout": "IPY_MODEL_c69b79dd34e94834a32809ca1dc4fade",
            "placeholder": "​",
            "style": "IPY_MODEL_57458a09224f40dda17ca723d2ea3c6d",
            "value": "Extracting data files: 100%"
          }
        },
        "056dfed9e3a14353b573c785984b4570": {
          "model_module": "@jupyter-widgets/controls",
          "model_name": "FloatProgressModel",
          "model_module_version": "1.5.0",
          "state": {
            "_dom_classes": [],
            "_model_module": "@jupyter-widgets/controls",
            "_model_module_version": "1.5.0",
            "_model_name": "FloatProgressModel",
            "_view_count": null,
            "_view_module": "@jupyter-widgets/controls",
            "_view_module_version": "1.5.0",
            "_view_name": "ProgressView",
            "bar_style": "success",
            "description": "",
            "description_tooltip": null,
            "layout": "IPY_MODEL_d17a6423b0f44f8bb107a57f37b4a1bd",
            "max": 1,
            "min": 0,
            "orientation": "horizontal",
            "style": "IPY_MODEL_0574c8c54e5445039e7f3b41a9f97890",
            "value": 1
          }
        },
        "dc6ea50a51c440a89a1ed65dd42ef6f0": {
          "model_module": "@jupyter-widgets/controls",
          "model_name": "HTMLModel",
          "model_module_version": "1.5.0",
          "state": {
            "_dom_classes": [],
            "_model_module": "@jupyter-widgets/controls",
            "_model_module_version": "1.5.0",
            "_model_name": "HTMLModel",
            "_view_count": null,
            "_view_module": "@jupyter-widgets/controls",
            "_view_module_version": "1.5.0",
            "_view_name": "HTMLView",
            "description": "",
            "description_tooltip": null,
            "layout": "IPY_MODEL_c833eaedc625427b93a8939af4a0b86a",
            "placeholder": "​",
            "style": "IPY_MODEL_7f716df24fab427484f4483da3988757",
            "value": " 1/1 [00:00&lt;00:00, 35.83it/s]"
          }
        },
        "3d15b3d993c14bc4bc8fd8faed1012a1": {
          "model_module": "@jupyter-widgets/base",
          "model_name": "LayoutModel",
          "model_module_version": "1.2.0",
          "state": {
            "_model_module": "@jupyter-widgets/base",
            "_model_module_version": "1.2.0",
            "_model_name": "LayoutModel",
            "_view_count": null,
            "_view_module": "@jupyter-widgets/base",
            "_view_module_version": "1.2.0",
            "_view_name": "LayoutView",
            "align_content": null,
            "align_items": null,
            "align_self": null,
            "border": null,
            "bottom": null,
            "display": null,
            "flex": null,
            "flex_flow": null,
            "grid_area": null,
            "grid_auto_columns": null,
            "grid_auto_flow": null,
            "grid_auto_rows": null,
            "grid_column": null,
            "grid_gap": null,
            "grid_row": null,
            "grid_template_areas": null,
            "grid_template_columns": null,
            "grid_template_rows": null,
            "height": null,
            "justify_content": null,
            "justify_items": null,
            "left": null,
            "margin": null,
            "max_height": null,
            "max_width": null,
            "min_height": null,
            "min_width": null,
            "object_fit": null,
            "object_position": null,
            "order": null,
            "overflow": null,
            "overflow_x": null,
            "overflow_y": null,
            "padding": null,
            "right": null,
            "top": null,
            "visibility": null,
            "width": null
          }
        },
        "c69b79dd34e94834a32809ca1dc4fade": {
          "model_module": "@jupyter-widgets/base",
          "model_name": "LayoutModel",
          "model_module_version": "1.2.0",
          "state": {
            "_model_module": "@jupyter-widgets/base",
            "_model_module_version": "1.2.0",
            "_model_name": "LayoutModel",
            "_view_count": null,
            "_view_module": "@jupyter-widgets/base",
            "_view_module_version": "1.2.0",
            "_view_name": "LayoutView",
            "align_content": null,
            "align_items": null,
            "align_self": null,
            "border": null,
            "bottom": null,
            "display": null,
            "flex": null,
            "flex_flow": null,
            "grid_area": null,
            "grid_auto_columns": null,
            "grid_auto_flow": null,
            "grid_auto_rows": null,
            "grid_column": null,
            "grid_gap": null,
            "grid_row": null,
            "grid_template_areas": null,
            "grid_template_columns": null,
            "grid_template_rows": null,
            "height": null,
            "justify_content": null,
            "justify_items": null,
            "left": null,
            "margin": null,
            "max_height": null,
            "max_width": null,
            "min_height": null,
            "min_width": null,
            "object_fit": null,
            "object_position": null,
            "order": null,
            "overflow": null,
            "overflow_x": null,
            "overflow_y": null,
            "padding": null,
            "right": null,
            "top": null,
            "visibility": null,
            "width": null
          }
        },
        "57458a09224f40dda17ca723d2ea3c6d": {
          "model_module": "@jupyter-widgets/controls",
          "model_name": "DescriptionStyleModel",
          "model_module_version": "1.5.0",
          "state": {
            "_model_module": "@jupyter-widgets/controls",
            "_model_module_version": "1.5.0",
            "_model_name": "DescriptionStyleModel",
            "_view_count": null,
            "_view_module": "@jupyter-widgets/base",
            "_view_module_version": "1.2.0",
            "_view_name": "StyleView",
            "description_width": ""
          }
        },
        "d17a6423b0f44f8bb107a57f37b4a1bd": {
          "model_module": "@jupyter-widgets/base",
          "model_name": "LayoutModel",
          "model_module_version": "1.2.0",
          "state": {
            "_model_module": "@jupyter-widgets/base",
            "_model_module_version": "1.2.0",
            "_model_name": "LayoutModel",
            "_view_count": null,
            "_view_module": "@jupyter-widgets/base",
            "_view_module_version": "1.2.0",
            "_view_name": "LayoutView",
            "align_content": null,
            "align_items": null,
            "align_self": null,
            "border": null,
            "bottom": null,
            "display": null,
            "flex": null,
            "flex_flow": null,
            "grid_area": null,
            "grid_auto_columns": null,
            "grid_auto_flow": null,
            "grid_auto_rows": null,
            "grid_column": null,
            "grid_gap": null,
            "grid_row": null,
            "grid_template_areas": null,
            "grid_template_columns": null,
            "grid_template_rows": null,
            "height": null,
            "justify_content": null,
            "justify_items": null,
            "left": null,
            "margin": null,
            "max_height": null,
            "max_width": null,
            "min_height": null,
            "min_width": null,
            "object_fit": null,
            "object_position": null,
            "order": null,
            "overflow": null,
            "overflow_x": null,
            "overflow_y": null,
            "padding": null,
            "right": null,
            "top": null,
            "visibility": null,
            "width": null
          }
        },
        "0574c8c54e5445039e7f3b41a9f97890": {
          "model_module": "@jupyter-widgets/controls",
          "model_name": "ProgressStyleModel",
          "model_module_version": "1.5.0",
          "state": {
            "_model_module": "@jupyter-widgets/controls",
            "_model_module_version": "1.5.0",
            "_model_name": "ProgressStyleModel",
            "_view_count": null,
            "_view_module": "@jupyter-widgets/base",
            "_view_module_version": "1.2.0",
            "_view_name": "StyleView",
            "bar_color": null,
            "description_width": ""
          }
        },
        "c833eaedc625427b93a8939af4a0b86a": {
          "model_module": "@jupyter-widgets/base",
          "model_name": "LayoutModel",
          "model_module_version": "1.2.0",
          "state": {
            "_model_module": "@jupyter-widgets/base",
            "_model_module_version": "1.2.0",
            "_model_name": "LayoutModel",
            "_view_count": null,
            "_view_module": "@jupyter-widgets/base",
            "_view_module_version": "1.2.0",
            "_view_name": "LayoutView",
            "align_content": null,
            "align_items": null,
            "align_self": null,
            "border": null,
            "bottom": null,
            "display": null,
            "flex": null,
            "flex_flow": null,
            "grid_area": null,
            "grid_auto_columns": null,
            "grid_auto_flow": null,
            "grid_auto_rows": null,
            "grid_column": null,
            "grid_gap": null,
            "grid_row": null,
            "grid_template_areas": null,
            "grid_template_columns": null,
            "grid_template_rows": null,
            "height": null,
            "justify_content": null,
            "justify_items": null,
            "left": null,
            "margin": null,
            "max_height": null,
            "max_width": null,
            "min_height": null,
            "min_width": null,
            "object_fit": null,
            "object_position": null,
            "order": null,
            "overflow": null,
            "overflow_x": null,
            "overflow_y": null,
            "padding": null,
            "right": null,
            "top": null,
            "visibility": null,
            "width": null
          }
        },
        "7f716df24fab427484f4483da3988757": {
          "model_module": "@jupyter-widgets/controls",
          "model_name": "DescriptionStyleModel",
          "model_module_version": "1.5.0",
          "state": {
            "_model_module": "@jupyter-widgets/controls",
            "_model_module_version": "1.5.0",
            "_model_name": "DescriptionStyleModel",
            "_view_count": null,
            "_view_module": "@jupyter-widgets/base",
            "_view_module_version": "1.2.0",
            "_view_name": "StyleView",
            "description_width": ""
          }
        },
        "771a89d9be3240c088b4cb57e9a647af": {
          "model_module": "@jupyter-widgets/controls",
          "model_name": "HBoxModel",
          "model_module_version": "1.5.0",
          "state": {
            "_dom_classes": [],
            "_model_module": "@jupyter-widgets/controls",
            "_model_module_version": "1.5.0",
            "_model_name": "HBoxModel",
            "_view_count": null,
            "_view_module": "@jupyter-widgets/controls",
            "_view_module_version": "1.5.0",
            "_view_name": "HBoxView",
            "box_style": "",
            "children": [
              "IPY_MODEL_3749703c26ab477a8011d034659dbb14",
              "IPY_MODEL_4221b511dd5148dfbae1e7d0020574d6",
              "IPY_MODEL_a5854ee75ef44dcdb96873caeddbc69f"
            ],
            "layout": "IPY_MODEL_6c8b81dbd67040569ebf19b881335a3a"
          }
        },
        "3749703c26ab477a8011d034659dbb14": {
          "model_module": "@jupyter-widgets/controls",
          "model_name": "HTMLModel",
          "model_module_version": "1.5.0",
          "state": {
            "_dom_classes": [],
            "_model_module": "@jupyter-widgets/controls",
            "_model_module_version": "1.5.0",
            "_model_name": "HTMLModel",
            "_view_count": null,
            "_view_module": "@jupyter-widgets/controls",
            "_view_module_version": "1.5.0",
            "_view_name": "HTMLView",
            "description": "",
            "description_tooltip": null,
            "layout": "IPY_MODEL_7059d04cd7be47c984a4bce61d29dd07",
            "placeholder": "​",
            "style": "IPY_MODEL_b85311a60f7a41a384bf0347f6708245",
            "value": "Generating train split: "
          }
        },
        "4221b511dd5148dfbae1e7d0020574d6": {
          "model_module": "@jupyter-widgets/controls",
          "model_name": "FloatProgressModel",
          "model_module_version": "1.5.0",
          "state": {
            "_dom_classes": [],
            "_model_module": "@jupyter-widgets/controls",
            "_model_module_version": "1.5.0",
            "_model_name": "FloatProgressModel",
            "_view_count": null,
            "_view_module": "@jupyter-widgets/controls",
            "_view_module_version": "1.5.0",
            "_view_name": "ProgressView",
            "bar_style": "success",
            "description": "",
            "description_tooltip": null,
            "layout": "IPY_MODEL_a1420effb34d4428960032178a7646b5",
            "max": 1,
            "min": 0,
            "orientation": "horizontal",
            "style": "IPY_MODEL_a0e9d0406e314ba784afe5140ce6b227",
            "value": 1
          }
        },
        "a5854ee75ef44dcdb96873caeddbc69f": {
          "model_module": "@jupyter-widgets/controls",
          "model_name": "HTMLModel",
          "model_module_version": "1.5.0",
          "state": {
            "_dom_classes": [],
            "_model_module": "@jupyter-widgets/controls",
            "_model_module_version": "1.5.0",
            "_model_name": "HTMLModel",
            "_view_count": null,
            "_view_module": "@jupyter-widgets/controls",
            "_view_module_version": "1.5.0",
            "_view_name": "HTMLView",
            "description": "",
            "description_tooltip": null,
            "layout": "IPY_MODEL_e89c1d69d3c649999262fb2a18680c2d",
            "placeholder": "​",
            "style": "IPY_MODEL_c434451eeea44504af58bb3bef6d2a30",
            "value": " 347437/0 [00:00&lt;00:00, 449160.72 examples/s]"
          }
        },
        "6c8b81dbd67040569ebf19b881335a3a": {
          "model_module": "@jupyter-widgets/base",
          "model_name": "LayoutModel",
          "model_module_version": "1.2.0",
          "state": {
            "_model_module": "@jupyter-widgets/base",
            "_model_module_version": "1.2.0",
            "_model_name": "LayoutModel",
            "_view_count": null,
            "_view_module": "@jupyter-widgets/base",
            "_view_module_version": "1.2.0",
            "_view_name": "LayoutView",
            "align_content": null,
            "align_items": null,
            "align_self": null,
            "border": null,
            "bottom": null,
            "display": null,
            "flex": null,
            "flex_flow": null,
            "grid_area": null,
            "grid_auto_columns": null,
            "grid_auto_flow": null,
            "grid_auto_rows": null,
            "grid_column": null,
            "grid_gap": null,
            "grid_row": null,
            "grid_template_areas": null,
            "grid_template_columns": null,
            "grid_template_rows": null,
            "height": null,
            "justify_content": null,
            "justify_items": null,
            "left": null,
            "margin": null,
            "max_height": null,
            "max_width": null,
            "min_height": null,
            "min_width": null,
            "object_fit": null,
            "object_position": null,
            "order": null,
            "overflow": null,
            "overflow_x": null,
            "overflow_y": null,
            "padding": null,
            "right": null,
            "top": null,
            "visibility": null,
            "width": null
          }
        },
        "7059d04cd7be47c984a4bce61d29dd07": {
          "model_module": "@jupyter-widgets/base",
          "model_name": "LayoutModel",
          "model_module_version": "1.2.0",
          "state": {
            "_model_module": "@jupyter-widgets/base",
            "_model_module_version": "1.2.0",
            "_model_name": "LayoutModel",
            "_view_count": null,
            "_view_module": "@jupyter-widgets/base",
            "_view_module_version": "1.2.0",
            "_view_name": "LayoutView",
            "align_content": null,
            "align_items": null,
            "align_self": null,
            "border": null,
            "bottom": null,
            "display": null,
            "flex": null,
            "flex_flow": null,
            "grid_area": null,
            "grid_auto_columns": null,
            "grid_auto_flow": null,
            "grid_auto_rows": null,
            "grid_column": null,
            "grid_gap": null,
            "grid_row": null,
            "grid_template_areas": null,
            "grid_template_columns": null,
            "grid_template_rows": null,
            "height": null,
            "justify_content": null,
            "justify_items": null,
            "left": null,
            "margin": null,
            "max_height": null,
            "max_width": null,
            "min_height": null,
            "min_width": null,
            "object_fit": null,
            "object_position": null,
            "order": null,
            "overflow": null,
            "overflow_x": null,
            "overflow_y": null,
            "padding": null,
            "right": null,
            "top": null,
            "visibility": null,
            "width": null
          }
        },
        "b85311a60f7a41a384bf0347f6708245": {
          "model_module": "@jupyter-widgets/controls",
          "model_name": "DescriptionStyleModel",
          "model_module_version": "1.5.0",
          "state": {
            "_model_module": "@jupyter-widgets/controls",
            "_model_module_version": "1.5.0",
            "_model_name": "DescriptionStyleModel",
            "_view_count": null,
            "_view_module": "@jupyter-widgets/base",
            "_view_module_version": "1.2.0",
            "_view_name": "StyleView",
            "description_width": ""
          }
        },
        "a1420effb34d4428960032178a7646b5": {
          "model_module": "@jupyter-widgets/base",
          "model_name": "LayoutModel",
          "model_module_version": "1.2.0",
          "state": {
            "_model_module": "@jupyter-widgets/base",
            "_model_module_version": "1.2.0",
            "_model_name": "LayoutModel",
            "_view_count": null,
            "_view_module": "@jupyter-widgets/base",
            "_view_module_version": "1.2.0",
            "_view_name": "LayoutView",
            "align_content": null,
            "align_items": null,
            "align_self": null,
            "border": null,
            "bottom": null,
            "display": null,
            "flex": null,
            "flex_flow": null,
            "grid_area": null,
            "grid_auto_columns": null,
            "grid_auto_flow": null,
            "grid_auto_rows": null,
            "grid_column": null,
            "grid_gap": null,
            "grid_row": null,
            "grid_template_areas": null,
            "grid_template_columns": null,
            "grid_template_rows": null,
            "height": null,
            "justify_content": null,
            "justify_items": null,
            "left": null,
            "margin": null,
            "max_height": null,
            "max_width": null,
            "min_height": null,
            "min_width": null,
            "object_fit": null,
            "object_position": null,
            "order": null,
            "overflow": null,
            "overflow_x": null,
            "overflow_y": null,
            "padding": null,
            "right": null,
            "top": null,
            "visibility": null,
            "width": "20px"
          }
        },
        "a0e9d0406e314ba784afe5140ce6b227": {
          "model_module": "@jupyter-widgets/controls",
          "model_name": "ProgressStyleModel",
          "model_module_version": "1.5.0",
          "state": {
            "_model_module": "@jupyter-widgets/controls",
            "_model_module_version": "1.5.0",
            "_model_name": "ProgressStyleModel",
            "_view_count": null,
            "_view_module": "@jupyter-widgets/base",
            "_view_module_version": "1.2.0",
            "_view_name": "StyleView",
            "bar_color": null,
            "description_width": ""
          }
        },
        "e89c1d69d3c649999262fb2a18680c2d": {
          "model_module": "@jupyter-widgets/base",
          "model_name": "LayoutModel",
          "model_module_version": "1.2.0",
          "state": {
            "_model_module": "@jupyter-widgets/base",
            "_model_module_version": "1.2.0",
            "_model_name": "LayoutModel",
            "_view_count": null,
            "_view_module": "@jupyter-widgets/base",
            "_view_module_version": "1.2.0",
            "_view_name": "LayoutView",
            "align_content": null,
            "align_items": null,
            "align_self": null,
            "border": null,
            "bottom": null,
            "display": null,
            "flex": null,
            "flex_flow": null,
            "grid_area": null,
            "grid_auto_columns": null,
            "grid_auto_flow": null,
            "grid_auto_rows": null,
            "grid_column": null,
            "grid_gap": null,
            "grid_row": null,
            "grid_template_areas": null,
            "grid_template_columns": null,
            "grid_template_rows": null,
            "height": null,
            "justify_content": null,
            "justify_items": null,
            "left": null,
            "margin": null,
            "max_height": null,
            "max_width": null,
            "min_height": null,
            "min_width": null,
            "object_fit": null,
            "object_position": null,
            "order": null,
            "overflow": null,
            "overflow_x": null,
            "overflow_y": null,
            "padding": null,
            "right": null,
            "top": null,
            "visibility": null,
            "width": null
          }
        },
        "c434451eeea44504af58bb3bef6d2a30": {
          "model_module": "@jupyter-widgets/controls",
          "model_name": "DescriptionStyleModel",
          "model_module_version": "1.5.0",
          "state": {
            "_model_module": "@jupyter-widgets/controls",
            "_model_module_version": "1.5.0",
            "_model_name": "DescriptionStyleModel",
            "_view_count": null,
            "_view_module": "@jupyter-widgets/base",
            "_view_module_version": "1.2.0",
            "_view_name": "StyleView",
            "description_width": ""
          }
        },
        "fe4ef032c2dd426fa766c89addcf4ecd": {
          "model_module": "@jupyter-widgets/controls",
          "model_name": "HBoxModel",
          "model_module_version": "1.5.0",
          "state": {
            "_dom_classes": [],
            "_model_module": "@jupyter-widgets/controls",
            "_model_module_version": "1.5.0",
            "_model_name": "HBoxModel",
            "_view_count": null,
            "_view_module": "@jupyter-widgets/controls",
            "_view_module_version": "1.5.0",
            "_view_name": "HBoxView",
            "box_style": "",
            "children": [
              "IPY_MODEL_97bf6665f8974b53a7e1061a13c16eba",
              "IPY_MODEL_627cadbcb5914966b4758b5d510c4aa4",
              "IPY_MODEL_77b7c93c7cfe452084fea0938c0174f2"
            ],
            "layout": "IPY_MODEL_bbd3fc2ee2f64042aa5580c26657efe8"
          }
        },
        "97bf6665f8974b53a7e1061a13c16eba": {
          "model_module": "@jupyter-widgets/controls",
          "model_name": "HTMLModel",
          "model_module_version": "1.5.0",
          "state": {
            "_dom_classes": [],
            "_model_module": "@jupyter-widgets/controls",
            "_model_module_version": "1.5.0",
            "_model_name": "HTMLModel",
            "_view_count": null,
            "_view_module": "@jupyter-widgets/controls",
            "_view_module_version": "1.5.0",
            "_view_name": "HTMLView",
            "description": "",
            "description_tooltip": null,
            "layout": "IPY_MODEL_e68a6a3639a64c49aade5e3de3ab5a0d",
            "placeholder": "​",
            "style": "IPY_MODEL_c8cd2ed284da4d219ef24c89ae289b57",
            "value": "Map: 100%"
          }
        },
        "627cadbcb5914966b4758b5d510c4aa4": {
          "model_module": "@jupyter-widgets/controls",
          "model_name": "FloatProgressModel",
          "model_module_version": "1.5.0",
          "state": {
            "_dom_classes": [],
            "_model_module": "@jupyter-widgets/controls",
            "_model_module_version": "1.5.0",
            "_model_name": "FloatProgressModel",
            "_view_count": null,
            "_view_module": "@jupyter-widgets/controls",
            "_view_module_version": "1.5.0",
            "_view_name": "ProgressView",
            "bar_style": "success",
            "description": "",
            "description_tooltip": null,
            "layout": "IPY_MODEL_035d457ab77d4492b0a1af4e18b660e8",
            "max": 312693,
            "min": 0,
            "orientation": "horizontal",
            "style": "IPY_MODEL_b38eb82baa2244ba89aeecb78ff84ee1",
            "value": 312693
          }
        },
        "77b7c93c7cfe452084fea0938c0174f2": {
          "model_module": "@jupyter-widgets/controls",
          "model_name": "HTMLModel",
          "model_module_version": "1.5.0",
          "state": {
            "_dom_classes": [],
            "_model_module": "@jupyter-widgets/controls",
            "_model_module_version": "1.5.0",
            "_model_name": "HTMLModel",
            "_view_count": null,
            "_view_module": "@jupyter-widgets/controls",
            "_view_module_version": "1.5.0",
            "_view_name": "HTMLView",
            "description": "",
            "description_tooltip": null,
            "layout": "IPY_MODEL_18cb220d8bcb4b1eb9f64e1e7748143e",
            "placeholder": "​",
            "style": "IPY_MODEL_bfbe86f7f81c4a37a25bdeebdef1311d",
            "value": " 312693/312693 [01:11&lt;00:00, 8217.87 examples/s]"
          }
        },
        "bbd3fc2ee2f64042aa5580c26657efe8": {
          "model_module": "@jupyter-widgets/base",
          "model_name": "LayoutModel",
          "model_module_version": "1.2.0",
          "state": {
            "_model_module": "@jupyter-widgets/base",
            "_model_module_version": "1.2.0",
            "_model_name": "LayoutModel",
            "_view_count": null,
            "_view_module": "@jupyter-widgets/base",
            "_view_module_version": "1.2.0",
            "_view_name": "LayoutView",
            "align_content": null,
            "align_items": null,
            "align_self": null,
            "border": null,
            "bottom": null,
            "display": null,
            "flex": null,
            "flex_flow": null,
            "grid_area": null,
            "grid_auto_columns": null,
            "grid_auto_flow": null,
            "grid_auto_rows": null,
            "grid_column": null,
            "grid_gap": null,
            "grid_row": null,
            "grid_template_areas": null,
            "grid_template_columns": null,
            "grid_template_rows": null,
            "height": null,
            "justify_content": null,
            "justify_items": null,
            "left": null,
            "margin": null,
            "max_height": null,
            "max_width": null,
            "min_height": null,
            "min_width": null,
            "object_fit": null,
            "object_position": null,
            "order": null,
            "overflow": null,
            "overflow_x": null,
            "overflow_y": null,
            "padding": null,
            "right": null,
            "top": null,
            "visibility": null,
            "width": null
          }
        },
        "e68a6a3639a64c49aade5e3de3ab5a0d": {
          "model_module": "@jupyter-widgets/base",
          "model_name": "LayoutModel",
          "model_module_version": "1.2.0",
          "state": {
            "_model_module": "@jupyter-widgets/base",
            "_model_module_version": "1.2.0",
            "_model_name": "LayoutModel",
            "_view_count": null,
            "_view_module": "@jupyter-widgets/base",
            "_view_module_version": "1.2.0",
            "_view_name": "LayoutView",
            "align_content": null,
            "align_items": null,
            "align_self": null,
            "border": null,
            "bottom": null,
            "display": null,
            "flex": null,
            "flex_flow": null,
            "grid_area": null,
            "grid_auto_columns": null,
            "grid_auto_flow": null,
            "grid_auto_rows": null,
            "grid_column": null,
            "grid_gap": null,
            "grid_row": null,
            "grid_template_areas": null,
            "grid_template_columns": null,
            "grid_template_rows": null,
            "height": null,
            "justify_content": null,
            "justify_items": null,
            "left": null,
            "margin": null,
            "max_height": null,
            "max_width": null,
            "min_height": null,
            "min_width": null,
            "object_fit": null,
            "object_position": null,
            "order": null,
            "overflow": null,
            "overflow_x": null,
            "overflow_y": null,
            "padding": null,
            "right": null,
            "top": null,
            "visibility": null,
            "width": null
          }
        },
        "c8cd2ed284da4d219ef24c89ae289b57": {
          "model_module": "@jupyter-widgets/controls",
          "model_name": "DescriptionStyleModel",
          "model_module_version": "1.5.0",
          "state": {
            "_model_module": "@jupyter-widgets/controls",
            "_model_module_version": "1.5.0",
            "_model_name": "DescriptionStyleModel",
            "_view_count": null,
            "_view_module": "@jupyter-widgets/base",
            "_view_module_version": "1.2.0",
            "_view_name": "StyleView",
            "description_width": ""
          }
        },
        "035d457ab77d4492b0a1af4e18b660e8": {
          "model_module": "@jupyter-widgets/base",
          "model_name": "LayoutModel",
          "model_module_version": "1.2.0",
          "state": {
            "_model_module": "@jupyter-widgets/base",
            "_model_module_version": "1.2.0",
            "_model_name": "LayoutModel",
            "_view_count": null,
            "_view_module": "@jupyter-widgets/base",
            "_view_module_version": "1.2.0",
            "_view_name": "LayoutView",
            "align_content": null,
            "align_items": null,
            "align_self": null,
            "border": null,
            "bottom": null,
            "display": null,
            "flex": null,
            "flex_flow": null,
            "grid_area": null,
            "grid_auto_columns": null,
            "grid_auto_flow": null,
            "grid_auto_rows": null,
            "grid_column": null,
            "grid_gap": null,
            "grid_row": null,
            "grid_template_areas": null,
            "grid_template_columns": null,
            "grid_template_rows": null,
            "height": null,
            "justify_content": null,
            "justify_items": null,
            "left": null,
            "margin": null,
            "max_height": null,
            "max_width": null,
            "min_height": null,
            "min_width": null,
            "object_fit": null,
            "object_position": null,
            "order": null,
            "overflow": null,
            "overflow_x": null,
            "overflow_y": null,
            "padding": null,
            "right": null,
            "top": null,
            "visibility": null,
            "width": null
          }
        },
        "b38eb82baa2244ba89aeecb78ff84ee1": {
          "model_module": "@jupyter-widgets/controls",
          "model_name": "ProgressStyleModel",
          "model_module_version": "1.5.0",
          "state": {
            "_model_module": "@jupyter-widgets/controls",
            "_model_module_version": "1.5.0",
            "_model_name": "ProgressStyleModel",
            "_view_count": null,
            "_view_module": "@jupyter-widgets/base",
            "_view_module_version": "1.2.0",
            "_view_name": "StyleView",
            "bar_color": null,
            "description_width": ""
          }
        },
        "18cb220d8bcb4b1eb9f64e1e7748143e": {
          "model_module": "@jupyter-widgets/base",
          "model_name": "LayoutModel",
          "model_module_version": "1.2.0",
          "state": {
            "_model_module": "@jupyter-widgets/base",
            "_model_module_version": "1.2.0",
            "_model_name": "LayoutModel",
            "_view_count": null,
            "_view_module": "@jupyter-widgets/base",
            "_view_module_version": "1.2.0",
            "_view_name": "LayoutView",
            "align_content": null,
            "align_items": null,
            "align_self": null,
            "border": null,
            "bottom": null,
            "display": null,
            "flex": null,
            "flex_flow": null,
            "grid_area": null,
            "grid_auto_columns": null,
            "grid_auto_flow": null,
            "grid_auto_rows": null,
            "grid_column": null,
            "grid_gap": null,
            "grid_row": null,
            "grid_template_areas": null,
            "grid_template_columns": null,
            "grid_template_rows": null,
            "height": null,
            "justify_content": null,
            "justify_items": null,
            "left": null,
            "margin": null,
            "max_height": null,
            "max_width": null,
            "min_height": null,
            "min_width": null,
            "object_fit": null,
            "object_position": null,
            "order": null,
            "overflow": null,
            "overflow_x": null,
            "overflow_y": null,
            "padding": null,
            "right": null,
            "top": null,
            "visibility": null,
            "width": null
          }
        },
        "bfbe86f7f81c4a37a25bdeebdef1311d": {
          "model_module": "@jupyter-widgets/controls",
          "model_name": "DescriptionStyleModel",
          "model_module_version": "1.5.0",
          "state": {
            "_model_module": "@jupyter-widgets/controls",
            "_model_module_version": "1.5.0",
            "_model_name": "DescriptionStyleModel",
            "_view_count": null,
            "_view_module": "@jupyter-widgets/base",
            "_view_module_version": "1.2.0",
            "_view_name": "StyleView",
            "description_width": ""
          }
        },
        "df3b0ee3fa6640b2be2e094fff1e3fe7": {
          "model_module": "@jupyter-widgets/controls",
          "model_name": "HBoxModel",
          "model_module_version": "1.5.0",
          "state": {
            "_dom_classes": [],
            "_model_module": "@jupyter-widgets/controls",
            "_model_module_version": "1.5.0",
            "_model_name": "HBoxModel",
            "_view_count": null,
            "_view_module": "@jupyter-widgets/controls",
            "_view_module_version": "1.5.0",
            "_view_name": "HBoxView",
            "box_style": "",
            "children": [
              "IPY_MODEL_d94d76f17eb94648bd2eba2294a87f7d",
              "IPY_MODEL_c7d8f36495b948528714b5c9c9fd92f2",
              "IPY_MODEL_7bd2c094bb9c4199b8776b14609d211c"
            ],
            "layout": "IPY_MODEL_3faa457f2b8d4c418bb096d413ff4598"
          }
        },
        "d94d76f17eb94648bd2eba2294a87f7d": {
          "model_module": "@jupyter-widgets/controls",
          "model_name": "HTMLModel",
          "model_module_version": "1.5.0",
          "state": {
            "_dom_classes": [],
            "_model_module": "@jupyter-widgets/controls",
            "_model_module_version": "1.5.0",
            "_model_name": "HTMLModel",
            "_view_count": null,
            "_view_module": "@jupyter-widgets/controls",
            "_view_module_version": "1.5.0",
            "_view_name": "HTMLView",
            "description": "",
            "description_tooltip": null,
            "layout": "IPY_MODEL_56b69a8056f74b858de4e2493cc375b7",
            "placeholder": "​",
            "style": "IPY_MODEL_5e5d8466f92f4dcf82b89de7ccd48336",
            "value": "Map: 100%"
          }
        },
        "c7d8f36495b948528714b5c9c9fd92f2": {
          "model_module": "@jupyter-widgets/controls",
          "model_name": "FloatProgressModel",
          "model_module_version": "1.5.0",
          "state": {
            "_dom_classes": [],
            "_model_module": "@jupyter-widgets/controls",
            "_model_module_version": "1.5.0",
            "_model_name": "FloatProgressModel",
            "_view_count": null,
            "_view_module": "@jupyter-widgets/controls",
            "_view_module_version": "1.5.0",
            "_view_name": "ProgressView",
            "bar_style": "success",
            "description": "",
            "description_tooltip": null,
            "layout": "IPY_MODEL_558af674dc204b128f3ba0ebbefdd64e",
            "max": 34744,
            "min": 0,
            "orientation": "horizontal",
            "style": "IPY_MODEL_603eac64ae384eaa81bcb232b45d6da6",
            "value": 34744
          }
        },
        "7bd2c094bb9c4199b8776b14609d211c": {
          "model_module": "@jupyter-widgets/controls",
          "model_name": "HTMLModel",
          "model_module_version": "1.5.0",
          "state": {
            "_dom_classes": [],
            "_model_module": "@jupyter-widgets/controls",
            "_model_module_version": "1.5.0",
            "_model_name": "HTMLModel",
            "_view_count": null,
            "_view_module": "@jupyter-widgets/controls",
            "_view_module_version": "1.5.0",
            "_view_name": "HTMLView",
            "description": "",
            "description_tooltip": null,
            "layout": "IPY_MODEL_908d120628404d7b92a916cac6520248",
            "placeholder": "​",
            "style": "IPY_MODEL_e64a55ff62454af7ae9fdd21cc4367cb",
            "value": " 34744/34744 [00:04&lt;00:00, 8083.07 examples/s]"
          }
        },
        "3faa457f2b8d4c418bb096d413ff4598": {
          "model_module": "@jupyter-widgets/base",
          "model_name": "LayoutModel",
          "model_module_version": "1.2.0",
          "state": {
            "_model_module": "@jupyter-widgets/base",
            "_model_module_version": "1.2.0",
            "_model_name": "LayoutModel",
            "_view_count": null,
            "_view_module": "@jupyter-widgets/base",
            "_view_module_version": "1.2.0",
            "_view_name": "LayoutView",
            "align_content": null,
            "align_items": null,
            "align_self": null,
            "border": null,
            "bottom": null,
            "display": null,
            "flex": null,
            "flex_flow": null,
            "grid_area": null,
            "grid_auto_columns": null,
            "grid_auto_flow": null,
            "grid_auto_rows": null,
            "grid_column": null,
            "grid_gap": null,
            "grid_row": null,
            "grid_template_areas": null,
            "grid_template_columns": null,
            "grid_template_rows": null,
            "height": null,
            "justify_content": null,
            "justify_items": null,
            "left": null,
            "margin": null,
            "max_height": null,
            "max_width": null,
            "min_height": null,
            "min_width": null,
            "object_fit": null,
            "object_position": null,
            "order": null,
            "overflow": null,
            "overflow_x": null,
            "overflow_y": null,
            "padding": null,
            "right": null,
            "top": null,
            "visibility": null,
            "width": null
          }
        },
        "56b69a8056f74b858de4e2493cc375b7": {
          "model_module": "@jupyter-widgets/base",
          "model_name": "LayoutModel",
          "model_module_version": "1.2.0",
          "state": {
            "_model_module": "@jupyter-widgets/base",
            "_model_module_version": "1.2.0",
            "_model_name": "LayoutModel",
            "_view_count": null,
            "_view_module": "@jupyter-widgets/base",
            "_view_module_version": "1.2.0",
            "_view_name": "LayoutView",
            "align_content": null,
            "align_items": null,
            "align_self": null,
            "border": null,
            "bottom": null,
            "display": null,
            "flex": null,
            "flex_flow": null,
            "grid_area": null,
            "grid_auto_columns": null,
            "grid_auto_flow": null,
            "grid_auto_rows": null,
            "grid_column": null,
            "grid_gap": null,
            "grid_row": null,
            "grid_template_areas": null,
            "grid_template_columns": null,
            "grid_template_rows": null,
            "height": null,
            "justify_content": null,
            "justify_items": null,
            "left": null,
            "margin": null,
            "max_height": null,
            "max_width": null,
            "min_height": null,
            "min_width": null,
            "object_fit": null,
            "object_position": null,
            "order": null,
            "overflow": null,
            "overflow_x": null,
            "overflow_y": null,
            "padding": null,
            "right": null,
            "top": null,
            "visibility": null,
            "width": null
          }
        },
        "5e5d8466f92f4dcf82b89de7ccd48336": {
          "model_module": "@jupyter-widgets/controls",
          "model_name": "DescriptionStyleModel",
          "model_module_version": "1.5.0",
          "state": {
            "_model_module": "@jupyter-widgets/controls",
            "_model_module_version": "1.5.0",
            "_model_name": "DescriptionStyleModel",
            "_view_count": null,
            "_view_module": "@jupyter-widgets/base",
            "_view_module_version": "1.2.0",
            "_view_name": "StyleView",
            "description_width": ""
          }
        },
        "558af674dc204b128f3ba0ebbefdd64e": {
          "model_module": "@jupyter-widgets/base",
          "model_name": "LayoutModel",
          "model_module_version": "1.2.0",
          "state": {
            "_model_module": "@jupyter-widgets/base",
            "_model_module_version": "1.2.0",
            "_model_name": "LayoutModel",
            "_view_count": null,
            "_view_module": "@jupyter-widgets/base",
            "_view_module_version": "1.2.0",
            "_view_name": "LayoutView",
            "align_content": null,
            "align_items": null,
            "align_self": null,
            "border": null,
            "bottom": null,
            "display": null,
            "flex": null,
            "flex_flow": null,
            "grid_area": null,
            "grid_auto_columns": null,
            "grid_auto_flow": null,
            "grid_auto_rows": null,
            "grid_column": null,
            "grid_gap": null,
            "grid_row": null,
            "grid_template_areas": null,
            "grid_template_columns": null,
            "grid_template_rows": null,
            "height": null,
            "justify_content": null,
            "justify_items": null,
            "left": null,
            "margin": null,
            "max_height": null,
            "max_width": null,
            "min_height": null,
            "min_width": null,
            "object_fit": null,
            "object_position": null,
            "order": null,
            "overflow": null,
            "overflow_x": null,
            "overflow_y": null,
            "padding": null,
            "right": null,
            "top": null,
            "visibility": null,
            "width": null
          }
        },
        "603eac64ae384eaa81bcb232b45d6da6": {
          "model_module": "@jupyter-widgets/controls",
          "model_name": "ProgressStyleModel",
          "model_module_version": "1.5.0",
          "state": {
            "_model_module": "@jupyter-widgets/controls",
            "_model_module_version": "1.5.0",
            "_model_name": "ProgressStyleModel",
            "_view_count": null,
            "_view_module": "@jupyter-widgets/base",
            "_view_module_version": "1.2.0",
            "_view_name": "StyleView",
            "bar_color": null,
            "description_width": ""
          }
        },
        "908d120628404d7b92a916cac6520248": {
          "model_module": "@jupyter-widgets/base",
          "model_name": "LayoutModel",
          "model_module_version": "1.2.0",
          "state": {
            "_model_module": "@jupyter-widgets/base",
            "_model_module_version": "1.2.0",
            "_model_name": "LayoutModel",
            "_view_count": null,
            "_view_module": "@jupyter-widgets/base",
            "_view_module_version": "1.2.0",
            "_view_name": "LayoutView",
            "align_content": null,
            "align_items": null,
            "align_self": null,
            "border": null,
            "bottom": null,
            "display": null,
            "flex": null,
            "flex_flow": null,
            "grid_area": null,
            "grid_auto_columns": null,
            "grid_auto_flow": null,
            "grid_auto_rows": null,
            "grid_column": null,
            "grid_gap": null,
            "grid_row": null,
            "grid_template_areas": null,
            "grid_template_columns": null,
            "grid_template_rows": null,
            "height": null,
            "justify_content": null,
            "justify_items": null,
            "left": null,
            "margin": null,
            "max_height": null,
            "max_width": null,
            "min_height": null,
            "min_width": null,
            "object_fit": null,
            "object_position": null,
            "order": null,
            "overflow": null,
            "overflow_x": null,
            "overflow_y": null,
            "padding": null,
            "right": null,
            "top": null,
            "visibility": null,
            "width": null
          }
        },
        "e64a55ff62454af7ae9fdd21cc4367cb": {
          "model_module": "@jupyter-widgets/controls",
          "model_name": "DescriptionStyleModel",
          "model_module_version": "1.5.0",
          "state": {
            "_model_module": "@jupyter-widgets/controls",
            "_model_module_version": "1.5.0",
            "_model_name": "DescriptionStyleModel",
            "_view_count": null,
            "_view_module": "@jupyter-widgets/base",
            "_view_module_version": "1.2.0",
            "_view_name": "StyleView",
            "description_width": ""
          }
        }
      }
    },
    "colab": {
      "provenance": [],
      "gpuType": "T4"
    },
    "accelerator": "GPU"
  },
  "nbformat": 4,
  "nbformat_minor": 5
}